{
  "nbformat": 4,
  "nbformat_minor": 0,
  "metadata": {
    "colab": {
      "provenance": [],
      "toc_visible": true,
      "authorship_tag": "ABX9TyO/rdKmA4l0Jskj0GOALFqT",
      "include_colab_link": true
    },
    "kernelspec": {
      "name": "python3",
      "display_name": "Python 3"
    },
    "language_info": {
      "name": "python"
    }
  },
  "cells": [
    {
      "cell_type": "markdown",
      "metadata": {
        "id": "view-in-github",
        "colab_type": "text"
      },
      "source": [
        "<a href=\"https://colab.research.google.com/github/raulc27/python_testes/blob/master/HipoteseInferencia.ipynb\" target=\"_parent\"><img src=\"https://colab.research.google.com/assets/colab-badge.svg\" alt=\"Open In Colab\"/></a>"
      ]
    },
    {
      "cell_type": "code",
      "execution_count": 1,
      "metadata": {
        "id": "j9JGaEuGh6zY"
      },
      "outputs": [],
      "source": [
        "# Livro Data Science do Zero"
      ]
    },
    {
      "cell_type": "code",
      "source": [
        "from typing import Tuple\n",
        "import math"
      ],
      "metadata": {
        "id": "4kiVOr0piFf9"
      },
      "execution_count": 2,
      "outputs": []
    },
    {
      "cell_type": "code",
      "source": [
        "def normal_approximation_to_binomial(n: int, p: float) -> Tuple[float, float]:\n",
        "  \"\"\" Retorna mu e sigma correspondentes Binomial(n,p) \"\"\"\n",
        "  mu = p * n\n",
        "  sigma = math.sqrt(p * (1-p) * n)\n",
        "  return mu, sigma"
      ],
      "metadata": {
        "id": "V5BrYsY1iK5W"
      },
      "execution_count": 3,
      "outputs": []
    },
    {
      "cell_type": "code",
      "source": [
        "def normal_cdf(x: float, mu: float=0, sigma: float=1) -> float:\n",
        "  return (1 + math.erf((x-mu)/math.sqrt(2)/sigma))/2"
      ],
      "metadata": {
        "id": "8oCFp6O8i1EK"
      },
      "execution_count": 4,
      "outputs": []
    },
    {
      "cell_type": "code",
      "source": [
        "normal_probability_below = normal_cdf"
      ],
      "metadata": {
        "id": "lAeI7TADed6G"
      },
      "execution_count": 5,
      "outputs": []
    },
    {
      "cell_type": "code",
      "source": [
        "def normal_probability_above(lo: float,\n",
        "                             mu: float=0,\n",
        "                             sigma: float=1) -> float:\n",
        "                             \"\"\" A probabilidade de que um N (mu, sigma) seja maior do que lo \"\"\"\n",
        "                             return 1 - normal_cdf(lo, mu, sigma)"
      ],
      "metadata": {
        "id": "RQNVKJbcemlU"
      },
      "execution_count": 6,
      "outputs": []
    },
    {
      "cell_type": "code",
      "source": [
        "# está entre se é menor do que hi, mas n é menor do que lo\n",
        "def normal_probability_between(\n",
        "    lo: float,\n",
        "    hi: float,\n",
        "    mu: float = 0,\n",
        "    sigma: float = 1) -> float:\n",
        "    \"\"\" A probabilidade de que um N (mu, sigma) esteja entre lo e hi. \"\"\"\n",
        "    return normal_cdf(hi, mu, sigma) - normal_cdf(lo, mu, sigma)"
      ],
      "metadata": {
        "id": "ell9YsH-vX1V"
      },
      "execution_count": 7,
      "outputs": []
    },
    {
      "cell_type": "code",
      "source": [
        "# Está fora se não está entre\n",
        "def normal_probability_outside(lo: float,\n",
        "                               hi: float,\n",
        "                               mu: float = 0,\n",
        "                               sigma: float =1) -> float:\n",
        "                               \"\"\" A probabilidade de que um N (mu, sigma) não esteja entre lo e hi. \"\"\"\n",
        "                               return 1 - normal_probability_between(lo, hi, mu, sigma)"
      ],
      "metadata": {
        "id": "vi1VXXytwETa"
      },
      "execution_count": 8,
      "outputs": []
    },
    {
      "cell_type": "code",
      "source": [
        "def inverse_normal_cdf(p: float,\n",
        "                       mu: float=0,\n",
        "                       sigma: float=1,\n",
        "                       tolerance: float=0.00001) -> float:\n",
        "                       \"\"\" encontrar o inverso aproximado usando a pesquisa binária! \"\"\"\n",
        "\n",
        "                       # se não for padrão, compute o padrão e redimensione\n",
        "                       if mu != 0 or sigma != 1:\n",
        "                         return mu + sigma * inverse_normal_cdf(p, tolerance=tolerance)\n",
        "\n",
        "                       low_z = -10.0\n",
        "                       hi_z = 10.0\n",
        "                       while hi_z - low_z > tolerance:\n",
        "                         mid_z = (low_z + hi_z) / 2\n",
        "                         mid_p = normal_cdf(mid_z)\n",
        "                         if mid_p < p:\n",
        "                           low_z = mid_z\n",
        "                         else:\n",
        "                           hi_z = mid_z\n",
        "                       return mid_z"
      ],
      "metadata": {
        "id": "fj61e3cywoXO"
      },
      "execution_count": 9,
      "outputs": []
    },
    {
      "cell_type": "code",
      "source": [
        "def normal_upper_bound(\n",
        "    probability: float,\n",
        "    mu: float = 0,\n",
        "    sigma: float = 1) -> float:\n",
        "    \"\"\" Retorna o z para o qual P(Z<=z) = probabilidade \"\"\"\n",
        "    return inverse_normal_cdf(probability, mu, sigma)"
      ],
      "metadata": {
        "id": "aBWi5x2pwuxE"
      },
      "execution_count": 10,
      "outputs": []
    },
    {
      "cell_type": "code",
      "source": [
        "def normal_lower_bound(\n",
        "    probability: float,\n",
        "    mu: float = 0,\n",
        "    sigma: float = 1\n",
        ") -> float:\n",
        "  \"\"\" Retorna o z para o qual P(Z >= z) = probabilidade \"\"\"\n",
        "  return inverse_normal_cdf(1-probability, mu, sigma)"
      ],
      "metadata": {
        "id": "advrrXYEzssh"
      },
      "execution_count": 11,
      "outputs": []
    },
    {
      "cell_type": "code",
      "source": [
        "def normal_two_sided_bounds(probability: float,\n",
        "                            mu: float = 0,\n",
        "                            sigma: float = 1) -> Tuple[float, float]:\n",
        "                            \"\"\"\n",
        "                            Retorna os limites simétricos (relativos à média)\n",
        "                            que contém a probabilidade especificada\n",
        "                            \"\"\"\n",
        "                            tail_probability = (1 - probability) / 2\n",
        "\n",
        "                            # O limite superior deve estar abaixo de tail_probability\n",
        "                            upper_bound = normal_lower_bound(tail_probability, mu, sigma)\n",
        "\n",
        "                            # O limite inferior deve estar acima de tail_probability/\n",
        "                            lower_bound = normal_upper_bound(tail_probability, mu, sigma)\n",
        "\n",
        "                            return lower_bound, upper_bound "
      ],
      "metadata": {
        "id": "oorOGIfU1uvI"
      },
      "execution_count": 12,
      "outputs": []
    },
    {
      "cell_type": "code",
      "source": [
        "# Se hipótese de honestidade estiver correta, X estará distribuído aproximadamente em um função Normal\n",
        "mu_0, sigma_0 = normal_approximation_to_binomial(1000, 0.5)"
      ],
      "metadata": {
        "id": "17Ec2-NT5eQi"
      },
      "execution_count": 13,
      "outputs": []
    },
    {
      "cell_type": "code",
      "source": [
        "# Teste recusará Ho se X estiver fora dos limites obtidos da seguinte forma:\n",
        "lower_bound, upper_bound = normal_two_sided_bounds(0.95, mu_0, sigma=0)"
      ],
      "metadata": {
        "id": "EGNNGYma7w5a"
      },
      "execution_count": 14,
      "outputs": []
    },
    {
      "cell_type": "code",
      "source": [
        "# calculando potência do teste\n",
        "lo, hi = normal_two_sided_bounds(0.95, mu_0, sigma_0)"
      ],
      "metadata": {
        "id": "Ol-Od2568F5N"
      },
      "execution_count": 15,
      "outputs": []
    },
    {
      "cell_type": "code",
      "source": [
        "mu_1, sigma_1 = normal_approximation_to_binomial(1000,0.55)"
      ],
      "metadata": {
        "id": "WZ1gkKwV8RmM"
      },
      "execution_count": 16,
      "outputs": []
    },
    {
      "cell_type": "code",
      "source": [
        "# erro tipo 2 ocorre qdo rejeitamos uma hipótese nula (o que ocorre qdo X ainda está no intervalo original)\n",
        "type_2_probability = normal_probability_between(lo, hi, mu_1, sigma_1)\n",
        "power = 1 - type_2_probability"
      ],
      "metadata": {
        "id": "S6rMiEJG8ZQr"
      },
      "execution_count": 17,
      "outputs": []
    },
    {
      "cell_type": "code",
      "source": [
        "hi = normal_upper_bound(0.95, mu_0, sigma_0)\n",
        "type_2_probability = normal_probability_below(hi, mu_1, sigma_1)\n",
        "power = 1 - type_2_probability"
      ],
      "metadata": {
        "id": "T0udpjhY8zBC"
      },
      "execution_count": 18,
      "outputs": []
    },
    {
      "cell_type": "markdown",
      "source": [
        "p-values"
      ],
      "metadata": {
        "id": "YN6d7MN-IfKu"
      }
    },
    {
      "cell_type": "code",
      "source": [
        "def two_sided_p_value(x:float, mu:float=0, sigma:float=1) -> float:\n",
        "  \"\"\"\n",
        "  Qual é a probabilidade de observar um valor pelo menos tão extremo\n",
        "  quanto x (em qualquer direção) se os valores vêm de um N (mu, sigma) ?\n",
        "  \"\"\"\n",
        "  if x >= mu:\n",
        "    # X é maior do que a média, então a coroa é qualquer valor maior do que x\n",
        "    return 2 * normal_probability_above(x, mu, sigma)\n",
        "  else:\n",
        "    # X é menor do que a média, então a coroa é qualquer valor menor do que x\n",
        "    return 2 * normal_probability_below(x, mu, sigma)"
      ],
      "metadata": {
        "id": "8oe9z_fUH2ne"
      },
      "execution_count": 19,
      "outputs": []
    },
    {
      "cell_type": "code",
      "source": [
        "# computando a observação de 530 \"caras\"\n",
        "two_sided_p_value(529.5, mu_0, sigma_0)"
      ],
      "metadata": {
        "colab": {
          "base_uri": "https://localhost:8080/"
        },
        "id": "NpV3L-V9KFUG",
        "outputId": "1c6c246c-8a9a-4e83-8553-46eba77ff323"
      },
      "execution_count": 20,
      "outputs": [
        {
          "output_type": "execute_result",
          "data": {
            "text/plain": [
              "0.06207721579598835"
            ]
          },
          "metadata": {},
          "execution_count": 20
        }
      ]
    },
    {
      "cell_type": "code",
      "source": [
        "# verificando a sensibilidade da estimativa\n",
        "\n",
        "import random\n",
        "extreme_value_count = 0\n",
        "for _ in range(1000):\n",
        "  num_heads = sum(1 if random.random() < 0.5 else 0 # Contando o n° de \"caras\"\n",
        "                  for _ in range(1000))             # em mil lançamentos\n",
        "  if num_heads >= 530 or num_heads <= 470:          # e conte as vezes em que\n",
        "    extreme_value_count += 1                        # o n° é 'extremo'\n",
        "\n",
        "# o p-value era 0.062 => ~62 valores extremos em 1000\n",
        "assert 59 < extreme_value_count < 65, f\"{extreme_value_count}\""
      ],
      "metadata": {
        "id": "MR2z-8vTKhWF"
      },
      "execution_count": 21,
      "outputs": []
    },
    {
      "cell_type": "code",
      "source": [
        "two_sided_p_value(531.5, mu_0, sigma_0)"
      ],
      "metadata": {
        "colab": {
          "base_uri": "https://localhost:8080/"
        },
        "id": "_3V6wKRvMHM9",
        "outputId": "d4c98bc3-890b-44f5-c8a8-fb7e2479e322"
      },
      "execution_count": 22,
      "outputs": [
        {
          "output_type": "execute_result",
          "data": {
            "text/plain": [
              "0.046345287837786575"
            ]
          },
          "metadata": {},
          "execution_count": 22
        }
      ]
    },
    {
      "cell_type": "markdown",
      "source": [
        "Intervalos de Confiança"
      ],
      "metadata": {
        "id": "h4urH5Y6OCgz"
      }
    },
    {
      "cell_type": "code",
      "source": [
        "p_hat = 525/1000\n",
        "mu = p_hat\n",
        "sigma = math.sqrt(p_hat * (1 - p_hat)/1000)"
      ],
      "metadata": {
        "id": "9WWIxm7-NBjH"
      },
      "execution_count": 23,
      "outputs": []
    },
    {
      "cell_type": "code",
      "source": [
        "normal_two_sided_bounds(0.95, mu, sigma)"
      ],
      "metadata": {
        "colab": {
          "base_uri": "https://localhost:8080/"
        },
        "id": "ggNtYaBvOj5N",
        "outputId": "898cd04a-dea3-4405-9fe6-e3efb8196488"
      },
      "execution_count": 24,
      "outputs": [
        {
          "output_type": "execute_result",
          "data": {
            "text/plain": [
              "(0.4940490278129096, 0.5559509721870904)"
            ]
          },
          "metadata": {},
          "execution_count": 24
        }
      ]
    },
    {
      "cell_type": "code",
      "source": [
        "p_hat = 540/1000\n",
        "mu = p_hat\n",
        "sigma = math.sqrt(p_hat * (1 - p_hat)/1000)"
      ],
      "metadata": {
        "id": "9mUHExzaO5D0"
      },
      "execution_count": 27,
      "outputs": []
    },
    {
      "cell_type": "code",
      "source": [
        "normal_two_sided_bounds(0.95, mu, sigma)"
      ],
      "metadata": {
        "colab": {
          "base_uri": "https://localhost:8080/"
        },
        "id": "UV8_tDcoPIIT",
        "outputId": "b6ce761b-0b9b-441e-fb1a-1da9dc0ad615"
      },
      "execution_count": 28,
      "outputs": [
        {
          "output_type": "execute_result",
          "data": {
            "text/plain": [
              "(0.5091095927295919, 0.5708904072704082)"
            ]
          },
          "metadata": {},
          "execution_count": 28
        }
      ]
    },
    {
      "cell_type": "markdown",
      "source": [
        "p-hacking"
      ],
      "metadata": {
        "id": "m0FFQjppR-Wv"
      }
    },
    {
      "cell_type": "code",
      "source": [
        "from typing import List \n",
        "\n",
        "def run_experiment() -> List[bool]:\n",
        "  \"\"\"\n",
        "  lança uma moeda honesta mil vezes, True = head, False = tails\n",
        "  \"\"\"\n",
        "  return [random.random() < 0.5 for _ in range(1000)]\n",
        "\n",
        "def reject_fairness(experiment: List[bool]) -> bool:\n",
        "  \"\"\"\n",
        "  Usando os níveis de significância de 5%\n",
        "  \"\"\"\n",
        "  num_heads = len([flip for flip in experiment if flip])\n",
        "  return num_heads < 469 or num_heads > 531"
      ],
      "metadata": {
        "id": "DM320yQUSAiU"
      },
      "execution_count": 29,
      "outputs": []
    },
    {
      "cell_type": "code",
      "source": [
        "random.seed(0)\n",
        "experiments = [run_experiment() for _ in range(1000)]\n",
        "num_rejections = len([experiment \n",
        "                      for experiment in experiments\n",
        "                      if reject_fairness(experiment)])\n",
        "\n",
        "assert num_rejections == 46"
      ],
      "metadata": {
        "id": "coEtdAmJTtpk"
      },
      "execution_count": 31,
      "outputs": []
    }
  ]
}