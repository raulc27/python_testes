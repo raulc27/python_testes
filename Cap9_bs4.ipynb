{
  "nbformat": 4,
  "nbformat_minor": 0,
  "metadata": {
    "colab": {
      "provenance": [],
      "authorship_tag": "ABX9TyMvqNhzP7kkuf9ji+e4jQXE",
      "include_colab_link": true
    },
    "kernelspec": {
      "name": "python3",
      "display_name": "Python 3"
    },
    "language_info": {
      "name": "python"
    }
  },
  "cells": [
    {
      "cell_type": "markdown",
      "metadata": {
        "id": "view-in-github",
        "colab_type": "text"
      },
      "source": [
        "<a href=\"https://colab.research.google.com/github/raulc27/python_testes/blob/master/Cap9_bs4.ipynb\" target=\"_parent\"><img src=\"https://colab.research.google.com/assets/colab-badge.svg\" alt=\"Open In Colab\"/></a>"
      ]
    },
    {
      "cell_type": "code",
      "execution_count": 1,
      "metadata": {
        "colab": {
          "base_uri": "https://localhost:8080/"
        },
        "id": "adMZgPZT0YdK",
        "outputId": "ed125ab5-6f60-45a2-a1d5-d0aa6f71f437"
      },
      "outputs": [
        {
          "output_type": "stream",
          "name": "stdout",
          "text": [
            "Looking in indexes: https://pypi.org/simple, https://us-python.pkg.dev/colab-wheels/public/simple/\n",
            "Collecting bs4\n",
            "  Downloading bs4-0.0.1.tar.gz (1.1 kB)\n",
            "  Preparing metadata (setup.py) ... \u001b[?25l\u001b[?25hdone\n",
            "Requirement already satisfied: beautifulsoup4 in /usr/local/lib/python3.9/dist-packages (from bs4) (4.11.2)\n",
            "Requirement already satisfied: soupsieve>1.2 in /usr/local/lib/python3.9/dist-packages (from beautifulsoup4->bs4) (2.4)\n",
            "Building wheels for collected packages: bs4\n",
            "  Building wheel for bs4 (setup.py) ... \u001b[?25l\u001b[?25hdone\n",
            "  Created wheel for bs4: filename=bs4-0.0.1-py3-none-any.whl size=1270 sha256=c8518ca3829c5100202fe54826e1b1579ea8718c0fb6866dba4f34990ba8282d\n",
            "  Stored in directory: /root/.cache/pip/wheels/73/2b/cb/099980278a0c9a3e57ff1a89875ec07bfa0b6fcbebb9a8cad3\n",
            "Successfully built bs4\n",
            "Installing collected packages: bs4\n",
            "Successfully installed bs4-0.0.1\n"
          ]
        }
      ],
      "source": [
        "!pip install bs4"
      ]
    },
    {
      "cell_type": "code",
      "source": [
        "from bs4 import BeautifulSoup\n",
        "import requests\n",
        "import re"
      ],
      "metadata": {
        "id": "E01B3hyA0v7V"
      },
      "execution_count": 6,
      "outputs": []
    },
    {
      "cell_type": "code",
      "source": [
        "url = \"https://www.house.gov/representatives\"\n",
        "text = requests.get(url).text\n",
        "soup = BeautifulSoup(text,\"html5lib\")"
      ],
      "metadata": {
        "id": "V2aSQLYW04LN"
      },
      "execution_count": 3,
      "outputs": []
    },
    {
      "cell_type": "code",
      "source": [
        "all_urls = [a['href']\n",
        "            for a in soup('a')\n",
        "            if a.has_attr('href')]"
      ],
      "metadata": {
        "id": "7lG0DQsG1fwd"
      },
      "execution_count": 4,
      "outputs": []
    },
    {
      "cell_type": "code",
      "source": [
        "print(len(all_urls))"
      ],
      "metadata": {
        "colab": {
          "base_uri": "https://localhost:8080/"
        },
        "id": "ZvasAiUq1-Ou",
        "outputId": "4e7d9165-4e40-4c0d-fec0-9425fdb75e28"
      },
      "execution_count": 5,
      "outputs": [
        {
          "output_type": "stream",
          "name": "stdout",
          "text": [
            "967\n"
          ]
        }
      ]
    },
    {
      "cell_type": "code",
      "source": [
        "# criando um conjunto (set) para eliminar repetições, após usar regex para eliminar duplicatas\n",
        "regex = r\"^https?://.*\\.house\\.gov/?$\"\n",
        "good_urls = [url for url in all_urls if re.match(regex, url)]\n",
        "good_urls = list(set(good_urls))\n",
        "print(len(good_urls))"
      ],
      "metadata": {
        "colab": {
          "base_uri": "https://localhost:8080/"
        },
        "id": "OzfgKXc82UaG",
        "outputId": "c77a3773-9f7a-4785-f810-ba9d919a420c"
      },
      "execution_count": 7,
      "outputs": [
        {
          "output_type": "stream",
          "name": "stdout",
          "text": [
            "440\n"
          ]
        }
      ]
    },
    {
      "cell_type": "code",
      "source": [
        "from typing import Dict, Set\n",
        "press_releases: Dict[str, Set[str]] = {}\n",
        "for house_url in good_urls:\n",
        "  html = requests.get(house_url).text\n",
        "soup = BeautifulSoup(html, 'html5lib')\n",
        "pr_links =[a['href'] for a in soup('a') if 'press releases'\n",
        "in a.text.lower()]\n",
        "\n",
        "print(f\"{house_url}: {pr_links}\")\n",
        "press_releases[house_url] = pr_links"
      ],
      "metadata": {
        "colab": {
          "base_uri": "https://localhost:8080/"
        },
        "id": "8cYl9e2S4sQY",
        "outputId": "c5337a4e-0d34-4d52-f2aa-b184919f85d5"
      },
      "execution_count": 18,
      "outputs": [
        {
          "output_type": "stream",
          "name": "stdout",
          "text": [
            "https://norton.house.gov/: ['/media/press-releases']\n"
          ]
        }
      ]
    },
    {
      "cell_type": "code",
      "source": [
        "def paragraph_mentions(text: str, keyword: str) -> bool:\n",
        "  \"\"\"\n",
        "  Retorna True se um <p> no texto mencionar {keyword}\n",
        "  \"\"\"\n",
        "  soup = BeautifulSoup(text, 'html5lib')\n",
        "  paragraphs = [p.get_text() for p in soup('p')]\n",
        "\n",
        "  return any(keyword.lower() in paragraph.lower()\n",
        "  for paragraph in paragraphs) "
      ],
      "metadata": {
        "id": "4IVEqBEY6kZt"
      },
      "execution_count": 13,
      "outputs": []
    },
    {
      "cell_type": "code",
      "source": [
        "# testes\n",
        "text = \"\"\"<body><h1>Facebook</h1><p>Twitter</p></body>\"\"\"\n",
        "assert paragraph_mentions(text,\"twitter\")\n",
        "assert not paragraph_mentions(text,\"facebook\")"
      ],
      "metadata": {
        "id": "M-dQ3q2H8QXv"
      },
      "execution_count": 14,
      "outputs": []
    },
    {
      "cell_type": "code",
      "source": [
        "# encontrando os parlamentares\n",
        "for house_urls, pr_links in press_releases.items():\n",
        "  for pr_link in pr_links:\n",
        "    url = f\"{house_url}/{pr_link}\"\n",
        "    text = requests.get(url).text\n",
        "\n",
        "    if paragraph_mentions(text,'data'):\n",
        "      print(f\"{house_url}\")\n",
        "      break # fim da atividade em house_url"
      ],
      "metadata": {
        "id": "0vVuGPfE82is"
      },
      "execution_count": 15,
      "outputs": []
    }
  ]
}