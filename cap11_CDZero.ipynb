{
  "nbformat": 4,
  "nbformat_minor": 0,
  "metadata": {
    "colab": {
      "provenance": [],
      "authorship_tag": "ABX9TyPySukyNWw4GvYlhVvbUySB",
      "include_colab_link": true
    },
    "kernelspec": {
      "name": "python3",
      "display_name": "Python 3"
    },
    "language_info": {
      "name": "python"
    }
  },
  "cells": [
    {
      "cell_type": "markdown",
      "metadata": {
        "id": "view-in-github",
        "colab_type": "text"
      },
      "source": [
        "<a href=\"https://colab.research.google.com/github/raulc27/python_testes/blob/master/cap11_CDZero.ipynb\" target=\"_parent\"><img src=\"https://colab.research.google.com/assets/colab-badge.svg\" alt=\"Open In Colab\"/></a>"
      ]
    },
    {
      "cell_type": "code",
      "execution_count": 8,
      "metadata": {
        "id": "3Cas61ZjFS4g"
      },
      "outputs": [],
      "source": [
        "import random\n",
        "from typing import TypeVar, List, Tuple"
      ]
    },
    {
      "cell_type": "code",
      "source": [
        "X = TypeVar('X') # tipo genérico par arepresentar um ponto de dados"
      ],
      "metadata": {
        "id": "s3vFMdbIGbbr"
      },
      "execution_count": 2,
      "outputs": []
    },
    {
      "cell_type": "code",
      "source": [
        "def split_data(data: List[X], prob: float) -> Tuple[List[X], List[X]]:\n",
        "  data: data[:]\n",
        "  random.shuffle(data)\n",
        "  cut = int(len(data) * prob)\n",
        "  return data[:cut], data[cut:]"
      ],
      "metadata": {
        "id": "Gyh3GmgmGhvY"
      },
      "execution_count": 3,
      "outputs": []
    },
    {
      "cell_type": "code",
      "source": [
        "data = [n for n in range(1000)]\n",
        "train, test = split_data(data, 0.75)"
      ],
      "metadata": {
        "id": "WcclG3x1IoMM"
      },
      "execution_count": 4,
      "outputs": []
    },
    {
      "cell_type": "code",
      "source": [
        "assert len(train) == 750\n",
        "assert len(test) == 250"
      ],
      "metadata": {
        "id": "TknAq6ufIwlM"
      },
      "execution_count": 5,
      "outputs": []
    },
    {
      "cell_type": "code",
      "source": [
        "assert sorted(train+test) == data"
      ],
      "metadata": {
        "colab": {
          "base_uri": "https://localhost:8080/",
          "height": 180
        },
        "id": "JATolnnkI5jf",
        "outputId": "5fb9b7c3-988e-4acd-be81-6d006ced02e4"
      },
      "execution_count": 9,
      "outputs": [
        {
          "output_type": "error",
          "ename": "AssertionError",
          "evalue": "ignored",
          "traceback": [
            "\u001b[0;31m---------------------------------------------------------------------------\u001b[0m",
            "\u001b[0;31mAssertionError\u001b[0m                            Traceback (most recent call last)",
            "\u001b[0;32m<ipython-input-9-6dea225ef7d7>\u001b[0m in \u001b[0;36m<cell line: 1>\u001b[0;34m()\u001b[0m\n\u001b[0;32m----> 1\u001b[0;31m \u001b[0;32massert\u001b[0m \u001b[0msorted\u001b[0m\u001b[0;34m(\u001b[0m\u001b[0mtrain\u001b[0m\u001b[0;34m+\u001b[0m\u001b[0mtest\u001b[0m\u001b[0;34m)\u001b[0m \u001b[0;34m==\u001b[0m \u001b[0mdata\u001b[0m\u001b[0;34m\u001b[0m\u001b[0;34m\u001b[0m\u001b[0m\n\u001b[0m",
            "\u001b[0;31mAssertionError\u001b[0m: "
          ]
        }
      ]
    },
    {
      "cell_type": "code",
      "source": [
        "Y = TypeVar('Y')"
      ],
      "metadata": {
        "id": "7kO3XuBsKIMj"
      },
      "execution_count": 10,
      "outputs": []
    },
    {
      "cell_type": "code",
      "source": [
        "def train_test_split(xs: List[X],\n",
        "                     ys: List[Y],\n",
        "                     test_pct: float) -> Tuple[List[X],\n",
        "                                               List[X],\n",
        "                                               List[Y],\n",
        "                                               List[Y]]:\n",
        "                                               idxs = [i for i in range(len(xs))]\n",
        "                                               train_idxs, test_idxs = split_data(idxs, 1 - test_pct)\n",
        "                                               return (\n",
        "                                                  [xs[i] for i in train_idxs],\n",
        "                                                  [xs[i] for i in test_idxs],\n",
        "                                                  [ys[i] for i in train_idxs],\n",
        "                                                  [ys[i] for i in test_idxs]\n",
        "                                               )\n"
      ],
      "metadata": {
        "id": "4V6bQxCFKVnW"
      },
      "execution_count": 12,
      "outputs": []
    },
    {
      "cell_type": "code",
      "source": [
        "# testando o código\n",
        "xs = [x for x in range(1000)]\n",
        "ys = [2 * x for x in xs]\n",
        "x_train, x_test, y_train, y_test = train_test_split(xs, ys, 0.25)\n",
        "assert len(x_train) == len(y_train) == 750\n",
        "assert len(x_test) == len(y_test) == 250"
      ],
      "metadata": {
        "id": "Zn8tf93ENb3g"
      },
      "execution_count": 16,
      "outputs": []
    },
    {
      "cell_type": "code",
      "source": [
        "# teste extra ao ter criado um modelo\n",
        "# 'SomeKindOfModel()' é algum modelo q foi criado\n",
        "model = SomeKindOfModel()\n",
        "x_train, x_test, y_train, y_test = train_test_split(xs, ys, 0.33)\n",
        "model.train(x_train, y_train)\n",
        "performance = model.test(x_test, y_test)"
      ],
      "metadata": {
        "id": "gvDKNkPYPPWS"
      },
      "execution_count": null,
      "outputs": []
    }
  ]
}