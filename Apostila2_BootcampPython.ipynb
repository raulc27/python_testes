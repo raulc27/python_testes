{
  "nbformat": 4,
  "nbformat_minor": 0,
  "metadata": {
    "colab": {
      "name": "Apostila2_BootcampPython.ipynb",
      "provenance": [],
      "authorship_tag": "ABX9TyNLbSBgD3DxTBlZe7mHESx6",
      "include_colab_link": true
    },
    "kernelspec": {
      "name": "python3",
      "display_name": "Python 3"
    },
    "language_info": {
      "name": "python"
    }
  },
  "cells": [
    {
      "cell_type": "markdown",
      "metadata": {
        "id": "view-in-github",
        "colab_type": "text"
      },
      "source": [
        "<a href=\"https://colab.research.google.com/github/raulc27/python_testes/blob/master/Apostila2_BootcampPython.ipynb\" target=\"_parent\"><img src=\"https://colab.research.google.com/assets/colab-badge.svg\" alt=\"Open In Colab\"/></a>"
      ]
    },
    {
      "cell_type": "code",
      "metadata": {
        "id": "wT9ZExCua8wV"
      },
      "source": [
        "import numpy as np"
      ],
      "execution_count": 3,
      "outputs": []
    },
    {
      "cell_type": "code",
      "metadata": {
        "colab": {
          "base_uri": "https://localhost:8080/"
        },
        "id": "seutCWNobVUR",
        "outputId": "27b20b46-ee36-433c-8384-09677fc4f871"
      },
      "source": [
        "a = np.array([[1,2,3],[2,3,4],[3,4,5]])\n",
        "print(\"Array criado:\\n\",a)\n",
        "print(\"shape:\", a.shape)"
      ],
      "execution_count": 6,
      "outputs": [
        {
          "output_type": "stream",
          "text": [
            "Array criado:\n",
            " [[1 2 3]\n",
            " [2 3 4]\n",
            " [3 4 5]]\n",
            "shape: (3, 3)\n"
          ],
          "name": "stdout"
        }
      ]
    },
    {
      "cell_type": "code",
      "metadata": {
        "colab": {
          "base_uri": "https://localhost:8080/"
        },
        "id": "mKYuvlRfcG69",
        "outputId": "4b21c7ed-3991-48c0-c43f-a88c51ce9df3"
      },
      "source": [
        "print(\"Criação de uma matriz 3x2 de 0's:\")\n",
        "print(np.zeros((3,2)))\n",
        "\n",
        "print(\" \\n Criação de uma matriz 3x2 de 1's:\")\n",
        "print(np.ones((3,2)))\n",
        "\n",
        "print(\"\\n Criação de uma matriz identidade 3x3:\")\n",
        "print(np.eye(3))\n",
        "\n",
        "print(\"\\n Criação de uma matriz 3x3 com números aleatórios:\")\n",
        "print(np.random.random((3,3)))"
      ],
      "execution_count": 7,
      "outputs": [
        {
          "output_type": "stream",
          "text": [
            "Criação de uma matriz 3x2 de 0's:\n",
            "[[0. 0.]\n",
            " [0. 0.]\n",
            " [0. 0.]]\n",
            " \n",
            " Criação de uma matriz 3x2 de 1's:\n",
            "[[1. 1.]\n",
            " [1. 1.]\n",
            " [1. 1.]]\n",
            "\n",
            " Criação de uma matriz identidade 3x3:\n",
            "[[1. 0. 0.]\n",
            " [0. 1. 0.]\n",
            " [0. 0. 1.]]\n",
            "\n",
            " Criação de uma matriz 3x3 com números aleatórios:\n",
            "[[0.6779379  0.64369911 0.84590214]\n",
            " [0.45417495 0.23274161 0.7035004 ]\n",
            " [0.65939963 0.94142351 0.74311614]]\n"
          ],
          "name": "stdout"
        }
      ]
    },
    {
      "cell_type": "code",
      "metadata": {
        "id": "VldjbzJHcnuK"
      },
      "source": [
        ""
      ],
      "execution_count": null,
      "outputs": []
    },
    {
      "cell_type": "code",
      "metadata": {
        "colab": {
          "base_uri": "https://localhost:8080/"
        },
        "id": "zmXJifxScsEk",
        "outputId": "5dede324-6b72-4c5e-997b-dfe94f5b81cc"
      },
      "source": [
        "# Criação de uma matriz bidimensional de tamanho (3,4)\n",
        "print(\"A:\")\n",
        "A = np.array([[1,2,3,4],[5,6,7,8],[9,10,11,12]])\n",
        "print(A)\n",
        "\n",
        "# indexacao do array A para extracao de um sub-array das duas primeiras 2 linhas de A e das colunas de índice 1 e 2, resultando em novo array\n",
        "# B de tamanho (2,2)\n",
        "print(\"B:\")\n",
        "B = A[:2, 1:3]\n",
        "print(B)\n"
      ],
      "execution_count": 9,
      "outputs": [
        {
          "output_type": "stream",
          "text": [
            "A:\n",
            "[[ 1  2  3  4]\n",
            " [ 5  6  7  8]\n",
            " [ 9 10 11 12]]\n",
            "B:\n",
            "[[2 3]\n",
            " [6 7]]\n"
          ],
          "name": "stdout"
        }
      ]
    },
    {
      "cell_type": "code",
      "metadata": {
        "id": "ntHvnH1ZnaYh"
      },
      "source": [
        ""
      ],
      "execution_count": null,
      "outputs": []
    }
  ]
}