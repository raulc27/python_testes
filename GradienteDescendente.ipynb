{
  "nbformat": 4,
  "nbformat_minor": 0,
  "metadata": {
    "colab": {
      "provenance": [],
      "authorship_tag": "ABX9TyP6FnlMiw9ZZpdRuZUSV/Rc",
      "include_colab_link": true
    },
    "kernelspec": {
      "name": "python3",
      "display_name": "Python 3"
    },
    "language_info": {
      "name": "python"
    }
  },
  "cells": [
    {
      "cell_type": "markdown",
      "metadata": {
        "id": "view-in-github",
        "colab_type": "text"
      },
      "source": [
        "<a href=\"https://colab.research.google.com/github/raulc27/python_testes/blob/master/GradienteDescendente.ipynb\" target=\"_parent\"><img src=\"https://colab.research.google.com/assets/colab-badge.svg\" alt=\"Open In Colab\"/></a>"
      ]
    },
    {
      "cell_type": "code",
      "source": [
        "from typing import List\n",
        "\n",
        "Vector = List[float]\n",
        "\n",
        "height_weight_age = [70,  # inches,\n",
        "                     170, # pounds,\n",
        "                     40 ] # years\n",
        "\n",
        "grades = [95,   # exam1\n",
        "          80,   # exam2\n",
        "          75,   # exam3\n",
        "          62 ]  # exam4\n",
        "\n",
        "def add(v: Vector, w: Vector) -> Vector:\n",
        "    \"\"\"Adds corresponding elements\"\"\"\n",
        "    assert len(v) == len(w), \"vectors must be the same length\"\n",
        "\n",
        "    return [v_i + w_i for v_i, w_i in zip(v, w)]\n",
        "\n",
        "assert add([1, 2, 3], [4, 5, 6]) == [5, 7, 9]\n",
        "\n",
        "def subtract(v: Vector, w: Vector) -> Vector:\n",
        "    \"\"\"Subtracts corresponding elements\"\"\"\n",
        "    assert len(v) == len(w), \"vectors must be the same length\"\n",
        "\n",
        "    return [v_i - w_i for v_i, w_i in zip(v, w)]\n",
        "\n",
        "assert subtract([5, 7, 9], [4, 5, 6]) == [1, 2, 3]\n",
        "\n",
        "def vector_sum(vectors: List[Vector]) -> Vector:\n",
        "    \"\"\"Sums all corresponding elements\"\"\"\n",
        "    # Check that vectors is not empty\n",
        "    assert vectors, \"no vectors provided!\"\n",
        "\n",
        "    # Check the vectors are all the same size\n",
        "    num_elements = len(vectors[0])\n",
        "    assert all(len(v) == num_elements for v in vectors), \"different sizes!\"\n",
        "\n",
        "    # the i-th element of the result is the sum of every vector[i]\n",
        "    return [sum(vector[i] for vector in vectors)\n",
        "            for i in range(num_elements)]\n",
        "\n",
        "assert vector_sum([[1, 2], [3, 4], [5, 6], [7, 8]]) == [16, 20]\n",
        "\n",
        "def scalar_multiply(c: float, v: Vector) -> Vector:\n",
        "    \"\"\"Multiplies every element by c\"\"\"\n",
        "    return [c * v_i for v_i in v]\n",
        "\n",
        "assert scalar_multiply(2, [1, 2, 3]) == [2, 4, 6]\n",
        "\n",
        "def vector_mean(vectors: List[Vector]) -> Vector:\n",
        "    \"\"\"Computes the element-wise average\"\"\"\n",
        "    n = len(vectors)\n",
        "    return scalar_multiply(1/n, vector_sum(vectors))\n",
        "\n",
        "assert vector_mean([[1, 2], [3, 4], [5, 6]]) == [3, 4]\n",
        "\n",
        "def dot(v: Vector, w: Vector) -> float:\n",
        "    \"\"\"Computes v_1 * w_1 + ... + v_n * w_n\"\"\"\n",
        "    assert len(v) == len(w), \"vectors must be same length\"\n",
        "\n",
        "    return sum(v_i * w_i for v_i, w_i in zip(v, w))\n",
        "\n",
        "assert dot([1, 2, 3], [4, 5, 6]) == 32  # 1 * 4 + 2 * 5 + 3 * 6\n",
        "\n",
        "def sum_of_squares(v: Vector) -> float:\n",
        "    \"\"\"Returns v_1 * v_1 + ... + v_n * v_n\"\"\"\n",
        "    return dot(v, v)\n",
        "\n",
        "assert sum_of_squares([1, 2, 3]) == 14  # 1 * 1 + 2 * 2 + 3 * 3\n",
        "\n",
        "import math\n",
        "\n",
        "def magnitude(v: Vector) -> float:\n",
        "    \"\"\"Returns the magnitude (or length) of v\"\"\"\n",
        "    return math.sqrt(sum_of_squares(v))   # math.sqrt is square root function\n",
        "\n",
        "assert magnitude([3, 4]) == 5\n",
        "\n",
        "def squared_distance(v: Vector, w: Vector) -> float:\n",
        "    \"\"\"Computes (v_1 - w_1) ** 2 + ... + (v_n - w_n) ** 2\"\"\"\n",
        "    return sum_of_squares(subtract(v, w))\n",
        "\n",
        "def distance(v: Vector, w: Vector) -> float:\n",
        "    \"\"\"Computes the distance between v and w\"\"\"\n",
        "    return math.sqrt(squared_distance(v, w))\n",
        "\n",
        "\n",
        "def distance(v: Vector, w: Vector) -> float:  # type: ignore\n",
        "    return magnitude(subtract(v, w))\n",
        "\n",
        "# Another type alias\n",
        "Matrix = List[List[float]]\n",
        "\n",
        "A = [[1, 2, 3],  # A has 2 rows and 3 columns\n",
        "     [4, 5, 6]]\n",
        "\n",
        "B = [[1, 2],     # B has 3 rows and 2 columns\n",
        "     [3, 4],\n",
        "     [5, 6]]\n",
        "\n",
        "from typing import Tuple\n",
        "\n",
        "def shape(A: Matrix) -> Tuple[int, int]:\n",
        "    \"\"\"Returns (# of rows of A, # of columns of A)\"\"\"\n",
        "    num_rows = len(A)\n",
        "    num_cols = len(A[0]) if A else 0   # number of elements in first row\n",
        "    return num_rows, num_cols\n",
        "\n",
        "assert shape([[1, 2, 3], [4, 5, 6]]) == (2, 3)  # 2 rows, 3 columns\n",
        "\n",
        "def get_row(A: Matrix, i: int) -> Vector:\n",
        "    \"\"\"Returns the i-th row of A (as a Vector)\"\"\"\n",
        "    return A[i]             # A[i] is already the ith row\n",
        "\n",
        "def get_column(A: Matrix, j: int) -> Vector:\n",
        "    \"\"\"Returns the j-th column of A (as a Vector)\"\"\"\n",
        "    return [A_i[j]          # jth element of row A_i\n",
        "            for A_i in A]   # for each row A_i\n",
        "\n",
        "from typing import Callable\n",
        "\n",
        "def make_matrix(num_rows: int,\n",
        "                num_cols: int,\n",
        "                entry_fn: Callable[[int, int], float]) -> Matrix:\n",
        "    \"\"\"\n",
        "    Returns a num_rows x num_cols matrix\n",
        "    whose (i,j)-th entry is entry_fn(i, j)\n",
        "    \"\"\"\n",
        "    return [[entry_fn(i, j)             # given i, create a list\n",
        "             for j in range(num_cols)]  #   [entry_fn(i, 0), ... ]\n",
        "            for i in range(num_rows)]   # create one list for each i\n",
        "\n",
        "def identity_matrix(n: int) -> Matrix:\n",
        "    \"\"\"Returns the n x n identity matrix\"\"\"\n",
        "    return make_matrix(n, n, lambda i, j: 1 if i == j else 0)\n",
        "\n",
        "assert identity_matrix(5) == [[1, 0, 0, 0, 0],\n",
        "                              [0, 1, 0, 0, 0],\n",
        "                              [0, 0, 1, 0, 0],\n",
        "                              [0, 0, 0, 1, 0],\n",
        "                              [0, 0, 0, 0, 1]]\n",
        "\n",
        "data = [[70, 170, 40],\n",
        "        [65, 120, 26],\n",
        "        [77, 250, 19],\n",
        "        # ....\n",
        "       ]\n",
        "\n",
        "friendships = [(0, 1), (0, 2), (1, 2), (1, 3), (2, 3), (3, 4),\n",
        "               (4, 5), (5, 6), (5, 7), (6, 8), (7, 8), (8, 9)]\n",
        "\n",
        "#            user 0  1  2  3  4  5  6  7  8  9\n",
        "#\n",
        "friend_matrix = [[0, 1, 1, 0, 0, 0, 0, 0, 0, 0],  # user 0\n",
        "                 [1, 0, 1, 1, 0, 0, 0, 0, 0, 0],  # user 1\n",
        "                 [1, 1, 0, 1, 0, 0, 0, 0, 0, 0],  # user 2\n",
        "                 [0, 1, 1, 0, 1, 0, 0, 0, 0, 0],  # user 3\n",
        "                 [0, 0, 0, 1, 0, 1, 0, 0, 0, 0],  # user 4\n",
        "                 [0, 0, 0, 0, 1, 0, 1, 1, 0, 0],  # user 5\n",
        "                 [0, 0, 0, 0, 0, 1, 0, 0, 1, 0],  # user 6\n",
        "                 [0, 0, 0, 0, 0, 1, 0, 0, 1, 0],  # user 7\n",
        "                 [0, 0, 0, 0, 0, 0, 1, 1, 0, 1],  # user 8\n",
        "                 [0, 0, 0, 0, 0, 0, 0, 0, 1, 0]]  # user 9\n",
        "\n",
        "assert friend_matrix[0][2] == 1, \"0 and 2 are friends\"\n",
        "assert friend_matrix[0][8] == 0, \"0 and 8 are not friends\"\n",
        "\n",
        "# only need to look at one row\n",
        "friends_of_five = [i\n",
        "                   for i, is_friend in enumerate(friend_matrix[5])\n",
        "                   if is_friend]"
      ],
      "metadata": {
        "id": "9cIlDJm-OLdO"
      },
      "execution_count": null,
      "outputs": []
    },
    {
      "cell_type": "code",
      "execution_count": null,
      "metadata": {
        "id": "r-K09UsFSXzs"
      },
      "outputs": [],
      "source": [
        "#from scratch import Vector, dot\n",
        "def sum_of_squares(v: Vector) -> float:\n",
        "  \"\"\"\n",
        "  Computa a soma de elementos quadrados em v\n",
        "  \"\"\"\n",
        "  return dot(v,v)"
      ]
    },
    {
      "cell_type": "code",
      "source": [
        "from typing import Callable\n",
        "\n",
        "def difference_quotient(f: Callable[[float], float],\n",
        "                        x: float,\n",
        "                        h: float) -> float:\n",
        "    return (f(x+h)-f(x))/h"
      ],
      "metadata": {
        "id": "FSUixMBgPB6h"
      },
      "execution_count": null,
      "outputs": []
    },
    {
      "cell_type": "code",
      "source": [
        "def square(x:float)->float:\n",
        "  return x*x\n",
        "\n",
        "def derivative(x: float) -> float:\n",
        "  return 2 * x"
      ],
      "metadata": {
        "id": "o4ZhwwszPVFo"
      },
      "execution_count": null,
      "outputs": []
    },
    {
      "cell_type": "code",
      "source": [
        "xs = range(-10,11)\n",
        "actuals = [derivative(x) for x in xs]\n",
        "estimates = [difference_quotient(square, x, h=0.001) for x in xs]\n",
        "\n",
        "# plote para indicar que eles são essencialmente os mesmos\n",
        "import matplotlib.pyplot as plt\n",
        "plt.title(\"Actual Derivatives vs. Estimates\")\n",
        "plt.plot(xs, actuals, 'rx', label='Actual') # vermelho x\n",
        "plt.plot(xs, estimates, 'b+', label='Estimate') # azul +\n",
        "plt.legend(loc=9)\n",
        "plt.show()"
      ],
      "metadata": {
        "colab": {
          "base_uri": "https://localhost:8080/",
          "height": 281
        },
        "id": "VjeDEFkjMolv",
        "outputId": "e3cca017-02f3-4f0b-e9dd-7d0bf5b95b25"
      },
      "execution_count": null,
      "outputs": [
        {
          "output_type": "display_data",
          "data": {
            "text/plain": [
              "<Figure size 432x288 with 1 Axes>"
            ],
            "image/png": "[encoded data removed]"
          },
          "metadata": {
            "needs_background": "light"
          }
        }
      ]
    },
    {
      "cell_type": "code",
      "source": [
        "def partial_difference_quotient(f: Callable[[Vector], float],\n",
        "                                v: Vector,\n",
        "                                i: int,\n",
        "                                h: float) -> float:\n",
        "    \"\"\"\n",
        "    Retorna o quociente parcial das diferenças i de f em v\n",
        "    \"\"\"\n",
        "    w = [v_j + (h if j == i else 0) #adicione h somente ao elemento i de v\n",
        "         for j, v_j in enumerate(v)]\n",
        "    return (f(w) -f(v))/h"
      ],
      "metadata": {
        "id": "Ac74FAhuP_vi"
      },
      "execution_count": null,
      "outputs": []
    },
    {
      "cell_type": "code",
      "source": [
        "def estimate_gradient(f: Callable[[Vector], float],\n",
        "                      v: Vector,\n",
        "                      h: float=0.0001):\n",
        "  return [partial_difference_quotient(f, v, i, h)\n",
        "      for i in range(len(v))]"
      ],
      "metadata": {
        "id": "jbNp3obhQYUM"
      },
      "execution_count": null,
      "outputs": []
    },
    {
      "cell_type": "markdown",
      "source": [
        "Usando o gradiente..."
      ],
      "metadata": {
        "id": "O7hfZL-Lc9sr"
      }
    },
    {
      "cell_type": "code",
      "source": [
        "import random\n",
        "def gradient_step(v: Vector, gradient: Vector, step_size: float) -> Vector:\n",
        "  \"\"\"\n",
        "  Move `step_size` na direção de `gradient` a partir de `v`\n",
        "  \"\"\"\n",
        "  assert len(v) == len(gradient)\n",
        "  step = scalar_multiply(step_size, gradient)\n",
        "  return add(v, step)\n",
        "\n",
        "def sum_of_squares_gradient(v: Vector) ->  Vector:\n",
        "  return [2 * v_i for v_i in v]\n",
        "\n",
        "# selecione um ponto de partida aleatório\n",
        "v = [random.uniform(-10,10) for i in range(3)]\n",
        "\n",
        "for epoch in range(1000):\n",
        "  grad = sum_of_squares_gradient(v) # compute o gradiente em v\n",
        "  v = gradient_step(v, grad, -0.01) # dê um passo negativo para o gradiente\n",
        "  print(epoch, v)\n",
        "\n",
        "assert distance(v, [0,0,0]) < 0.001 # v deve ser o próximo de 0"
      ],
      "metadata": {
        "id": "xgdYWyRrc_-S"
      },
      "execution_count": null,
      "outputs": []
    },
    {
      "cell_type": "code",
      "source": [
        "# x vai de -50 a 49, y é sempre 20 * x +5\n",
        "inputs = [(x, 20 * x +5) for x in range(-50,50)]"
      ],
      "metadata": {
        "id": "iP1oM0GdelUn"
      },
      "execution_count": null,
      "outputs": []
    },
    {
      "cell_type": "code",
      "source": [
        "def linear_gradient(x: float, y: float, theta: Vector) -> Vector:\n",
        "  slope, intercept = theta\n",
        "  predicted = slope * x + intercept # A previsão do modelo.\n",
        "  error = (predicted - y)           # o erro é (previsto - real)\n",
        "  squared_error = error ** 2        # Vamos minimizar o erro quadrático\n",
        "  grad = [2 * error * x, 2 * error] # usando seu gradiente\n",
        "  return grad"
      ],
      "metadata": {
        "id": "_bGrV7kHjqVi"
      },
      "execution_count": null,
      "outputs": []
    },
    {
      "cell_type": "code",
      "source": [
        "# uso do vector_mean\n",
        "\n",
        "# comece com valores aleatórios para a inclinação e o intercepto\n",
        "theta = [random.uniform(-1,1), random.uniform(-1,1)]\n",
        "learning_rate = 0.001\n",
        "\n",
        "for epoch in range(5000):\n",
        "  # Compute a média dos gradientes\n",
        "  grad = vector_mean([linear_gradient(x,y,theta) for x, y in inputs])\n",
        "  # dê um passo nessa direção\n",
        "  theta = gradient_step(theta, grad, -learning_rate)\n",
        "  print(epoch, theta)\n",
        "\n",
        "slope, intercept = theta\n",
        "assert 19.9 < slope < 20.1, \"slope should be about 20\"\n",
        "assert 4.9 < intercept < 5.1, \"intercept should be about 5\""
      ],
      "metadata": {
        "id": "_NGdbVnXlAtk"
      },
      "execution_count": null,
      "outputs": []
    },
    {
      "cell_type": "markdown",
      "source": [
        "Minibatch e Gradiente Descendente Estocástico"
      ],
      "metadata": {
        "id": "ek0DCe6LuFwE"
      }
    },
    {
      "cell_type": "code",
      "source": [
        "from typing import TypeVar, List, Iterator\n",
        "\n",
        "T = TypeVar('T') # isso permite a inserção de funções \"genéricas\"\n",
        "\n",
        "def minibatches(dataset: List[T],\n",
        "                batch_size: int,\n",
        "                shuffle: bool=True) -> Iterator[List[T]]:\n",
        "                \"\"\"\n",
        "                Gera minibatches de tamanho `btach_size` a partir do conjunto de dados\n",
        "                \"\"\"\n",
        "                # inicie os índices 0, batch_size, 2 * batch_size, ...\n",
        "                batch_starts = [start for start in range(0, len(dataset), batch_size)]\n",
        "\n",
        "                if shuffle: random.shuffle(batch_starts) #classifique os batches aleatoriamente\n",
        "\n",
        "                for start in batch_starts:\n",
        "                  end = start + batch_size\n",
        "                  yield dataset[start:end]"
      ],
      "metadata": {
        "id": "pyE3XjWkuI7G"
      },
      "execution_count": null,
      "outputs": []
    },
    {
      "cell_type": "code",
      "source": [
        "theta = [random.uniform(-1,1), random.uniform(-1,1)]\n",
        "\n",
        "for epoch in range(1000):\n",
        "  for batch in minibatches(inputs, batch_size=20):\n",
        "    grad = vector_mean([linear_gradient(x,y,theta) for x, y in batch])\n",
        "    theta = gradient_step(theta, grad, -learning_rate)\n",
        "  print(epoch, theta)\n",
        "\n",
        "slope, intercept = theta\n",
        "assert 19.9 < slope < 20.1, \"slope should be 20\"\n",
        "assert 4.9 < intercept < 5.1, \"intercept should be about 5\""
      ],
      "metadata": {
        "id": "Yg_s8rvivpum"
      },
      "execution_count": null,
      "outputs": []
    },
    {
      "cell_type": "code",
      "source": [
        "# gradiente descendente estocástico\n",
        "\n",
        "theta = [random.uniform(-1,1), random.uniform(-1,1)]\n",
        "\n",
        "for epoch in range(100):\n",
        "  for x,y in inputs:\n",
        "    grad = linear_gradient(x, y, theta)\n",
        "    theta = gradient_step(theta, grad, -learning_rate)\n",
        "  print(epoch, theta)\n",
        "\n",
        "slope, intercept = theta\n",
        "assert 19.9 < slope < 20.1, \"slope should be about 20\"\n",
        "assert 4.9 < intercept < 5.1, \"intercept should be about 5\""
      ],
      "metadata": {
        "id": "tGbtHuTvwtGw"
      },
      "execution_count": null,
      "outputs": []
    },
    {
      "cell_type": "code",
      "source": [],
      "metadata": {
        "id": "J5ju1Ii7wtFq"
      },
      "execution_count": null,
      "outputs": []
    }
  ]
}