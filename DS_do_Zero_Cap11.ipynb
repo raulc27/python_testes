{
  "nbformat": 4,
  "nbformat_minor": 0,
  "metadata": {
    "colab": {
      "provenance": [],
      "authorship_tag": "ABX9TyOddzXzgAH/IcJcutkebTpu",
      "include_colab_link": true
    },
    "kernelspec": {
      "name": "python3",
      "display_name": "Python 3"
    },
    "language_info": {
      "name": "python"
    }
  },
  "cells": [
    {
      "cell_type": "markdown",
      "metadata": {
        "id": "view-in-github",
        "colab_type": "text"
      },
      "source": [
        "<a href=\"https://colab.research.google.com/github/raulc27/python_testes/blob/master/DS_do_Zero_Cap11.ipynb\" target=\"_parent\"><img src=\"https://colab.research.google.com/assets/colab-badge.svg\" alt=\"Open In Colab\"/></a>"
      ]
    },
    {
      "cell_type": "code",
      "execution_count": 11,
      "metadata": {
        "id": "6ZTCyIPMgL_8"
      },
      "outputs": [],
      "source": [
        "from dataclasses import dataclass\n",
        "import datetime\n",
        "from typing import List"
      ]
    },
    {
      "cell_type": "code",
      "source": [
        "@dataclass\n",
        "class StockPrice2:\n",
        "  symbol: str\n",
        "  date: datetime.date\n",
        "  closing_price: float\n",
        "\n",
        "  def is_high_tech(self) -> bool:\n",
        "    \"\"\"Como é uma classe, também podemos adicionar métodos\"\"\"\n",
        "    return self.symbol in [\"MSFT\", \"GOOG\", \"FB\", \"AMZN\", \"AAPL\"]\n",
        "\n"
      ],
      "metadata": {
        "id": "KWmtqZUXgmpX"
      },
      "execution_count": 4,
      "outputs": []
    },
    {
      "cell_type": "code",
      "source": [
        "price2 = StockPrice2('MSFT', datetime.date(2018, 12,14), 106.03)"
      ],
      "metadata": {
        "id": "5P22_cH4hWcx"
      },
      "execution_count": 5,
      "outputs": []
    },
    {
      "cell_type": "code",
      "source": [
        "assert price2.symbol == 'MSFT'"
      ],
      "metadata": {
        "id": "-6JarQ4ihiS8"
      },
      "execution_count": 6,
      "outputs": []
    },
    {
      "cell_type": "code",
      "source": [
        "assert price2.closing_price == 106.03"
      ],
      "metadata": {
        "id": "5N2COVehhl3r"
      },
      "execution_count": 7,
      "outputs": []
    },
    {
      "cell_type": "code",
      "source": [
        "assert price2.is_high_tech()"
      ],
      "metadata": {
        "id": "rgj3Yrnzhp5S"
      },
      "execution_count": 8,
      "outputs": []
    },
    {
      "cell_type": "code",
      "source": [
        "from dateutil.parser import parse"
      ],
      "metadata": {
        "id": "_J2v8z4dh5Gk"
      },
      "execution_count": 9,
      "outputs": []
    },
    {
      "cell_type": "code",
      "source": [
        "def parse_row(row: List[str]) -> StockPrice2:\n",
        "  symbol, date, closing_price = row\n",
        "  return StockPrice2(symbol=symbol,\n",
        "                    date=parse(date).date(),\n",
        "                    closing_price=float(closing_price))"
      ],
      "metadata": {
        "id": "f92yj4n-iGaM"
      },
      "execution_count": 15,
      "outputs": []
    },
    {
      "cell_type": "code",
      "source": [
        "stock = parse_row(['MSFT', \"2018-12-14\", \"106.03\"])"
      ],
      "metadata": {
        "id": "yzpkoMwNimV2"
      },
      "execution_count": 16,
      "outputs": []
    },
    {
      "cell_type": "code",
      "source": [
        "assert stock.symbol == \"MSFT\""
      ],
      "metadata": {
        "id": "Y5N6pZTBi3cJ"
      },
      "execution_count": 18,
      "outputs": []
    },
    {
      "cell_type": "code",
      "source": [
        "assert stock.date == datetime.date(2018, 12, 14)"
      ],
      "metadata": {
        "id": "57IKc1P9i8Lm"
      },
      "execution_count": 19,
      "outputs": []
    },
    {
      "cell_type": "code",
      "source": [
        "assert stock.closing_price == 106.03"
      ],
      "metadata": {
        "id": "hsQQ5vnajCLu"
      },
      "execution_count": 20,
      "outputs": []
    },
    {
      "cell_type": "code",
      "source": [
        "from typing import Optional\n",
        "import re"
      ],
      "metadata": {
        "id": "jPnW1ycRjPBv"
      },
      "execution_count": 21,
      "outputs": []
    },
    {
      "cell_type": "code",
      "source": [
        "def try_parse_row(row: List[str]) -> Optional[StockPrice2]:\n",
        "  symbol, date_, closing_price_ = row\n",
        "  # os simbolos das acoes devem estar em maiusculas\n",
        "  if not re.match(r\"^[A-Z]+$\", symbol):\n",
        "    return None\n",
        "\n",
        "    try:\n",
        "      date = parse(date_).date()\n",
        "    except ValueError:\n",
        "      return None\n",
        "\n",
        "    try:\n",
        "      closing_price = float(closing_price)\n",
        "    except ValueError:\n",
        "      return None\n",
        "\n",
        "    return StockPrice2(symbol, date, closing_price)"
      ],
      "metadata": {
        "id": "EBVd8wyKjT6i"
      },
      "execution_count": 22,
      "outputs": []
    },
    {
      "cell_type": "code",
      "source": [
        "# Deve retornar None em caso de erros\n",
        "assert try_parse_row([\"MSFT0\", \"2018-12-14\", \"106.03\"]) is None\n",
        "assert try_parse_row([\"MSFT\", \"2018-12--14\", \"106.03\"]) is None\n",
        "assert try_parse_row([\"MSFT\", \"2018-12-14\", \"x\"]) is None"
      ],
      "metadata": {
        "id": "hCSDHqNzkPFt"
      },
      "execution_count": 25,
      "outputs": []
    },
    {
      "cell_type": "code",
      "source": [
        "# mas deve retornar o mesmo que antes se os dados forem válidos\n",
        "assert try_parse_row([\"MSFT\", \"2018-12-14\", \"106.03\"]) == stock"
      ],
      "metadata": {
        "colab": {
          "base_uri": "https://localhost:8080/",
          "height": 188
        },
        "id": "dvzg3IWvk5Fc",
        "outputId": "f989828d-a0f3-4fdb-df44-36689121e7fa"
      },
      "execution_count": 26,
      "outputs": [
        {
          "output_type": "error",
          "ename": "AssertionError",
          "evalue": "ignored",
          "traceback": [
            "\u001b[0;31m---------------------------------------------------------------------------\u001b[0m",
            "\u001b[0;31mAssertionError\u001b[0m                            Traceback (most recent call last)",
            "\u001b[0;32m<ipython-input-26-1c8c7467e1cc>\u001b[0m in \u001b[0;36m<cell line: 2>\u001b[0;34m()\u001b[0m\n\u001b[1;32m      1\u001b[0m \u001b[0;31m# mas deve retornar o mesmo que antes se os dados forem válidos\u001b[0m\u001b[0;34m\u001b[0m\u001b[0;34m\u001b[0m\u001b[0m\n\u001b[0;32m----> 2\u001b[0;31m \u001b[0;32massert\u001b[0m \u001b[0mtry_parse_row\u001b[0m\u001b[0;34m(\u001b[0m\u001b[0;34m[\u001b[0m\u001b[0;34m\"MSFT\"\u001b[0m\u001b[0;34m,\u001b[0m \u001b[0;34m\"2018-12-14\"\u001b[0m\u001b[0;34m,\u001b[0m \u001b[0;34m\"106.03\"\u001b[0m\u001b[0;34m]\u001b[0m\u001b[0;34m)\u001b[0m \u001b[0;34m==\u001b[0m \u001b[0mstock\u001b[0m\u001b[0;34m\u001b[0m\u001b[0;34m\u001b[0m\u001b[0m\n\u001b[0m",
            "\u001b[0;31mAssertionError\u001b[0m: "
          ]
        }
      ]
    }
  ]
}