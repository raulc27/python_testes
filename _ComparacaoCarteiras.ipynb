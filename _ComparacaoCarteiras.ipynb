{
  "nbformat": 4,
  "nbformat_minor": 0,
  "metadata": {
    "colab": {
      "name": "_ComparacaoCarteiras.ipynb",
      "provenance": [],
      "authorship_tag": "ABX9TyNVEOMVGVWBZk3FHK+HobSZ",
      "include_colab_link": true
    },
    "kernelspec": {
      "name": "python3",
      "display_name": "Python 3"
    },
    "language_info": {
      "name": "python"
    }
  },
  "cells": [
    {
      "cell_type": "markdown",
      "metadata": {
        "id": "view-in-github",
        "colab_type": "text"
      },
      "source": [
        "<a href=\"https://colab.research.google.com/github/raulc27/python_testes/blob/master/_ComparacaoCarteiras.ipynb\" target=\"_parent\"><img src=\"https://colab.research.google.com/assets/colab-badge.svg\" alt=\"Open In Colab\"/></a>"
      ]
    },
    {
      "cell_type": "code",
      "metadata": {
        "colab": {
          "base_uri": "https://localhost:8080/"
        },
        "id": "uC9caen1wZPj",
        "outputId": "7e2136e9-6e91-4d8c-91ea-1769958aa913"
      },
      "source": [
        "!pip install yfinance"
      ],
      "execution_count": 1,
      "outputs": [
        {
          "output_type": "stream",
          "text": [
            "Collecting yfinance\n",
            "  Downloading yfinance-0.1.63.tar.gz (26 kB)\n",
            "Requirement already satisfied: pandas>=0.24 in /usr/local/lib/python3.7/dist-packages (from yfinance) (1.1.5)\n",
            "Requirement already satisfied: numpy>=1.15 in /usr/local/lib/python3.7/dist-packages (from yfinance) (1.19.5)\n",
            "Requirement already satisfied: requests>=2.20 in /usr/local/lib/python3.7/dist-packages (from yfinance) (2.23.0)\n",
            "Requirement already satisfied: multitasking>=0.0.7 in /usr/local/lib/python3.7/dist-packages (from yfinance) (0.0.9)\n",
            "Collecting lxml>=4.5.1\n",
            "  Downloading lxml-4.6.3-cp37-cp37m-manylinux2014_x86_64.whl (6.3 MB)\n",
            "\u001b[K     |████████████████████████████████| 6.3 MB 8.1 MB/s \n",
            "\u001b[?25hRequirement already satisfied: pytz>=2017.2 in /usr/local/lib/python3.7/dist-packages (from pandas>=0.24->yfinance) (2018.9)\n",
            "Requirement already satisfied: python-dateutil>=2.7.3 in /usr/local/lib/python3.7/dist-packages (from pandas>=0.24->yfinance) (2.8.2)\n",
            "Requirement already satisfied: six>=1.5 in /usr/local/lib/python3.7/dist-packages (from python-dateutil>=2.7.3->pandas>=0.24->yfinance) (1.15.0)\n",
            "Requirement already satisfied: chardet<4,>=3.0.2 in /usr/local/lib/python3.7/dist-packages (from requests>=2.20->yfinance) (3.0.4)\n",
            "Requirement already satisfied: urllib3!=1.25.0,!=1.25.1,<1.26,>=1.21.1 in /usr/local/lib/python3.7/dist-packages (from requests>=2.20->yfinance) (1.24.3)\n",
            "Requirement already satisfied: idna<3,>=2.5 in /usr/local/lib/python3.7/dist-packages (from requests>=2.20->yfinance) (2.10)\n",
            "Requirement already satisfied: certifi>=2017.4.17 in /usr/local/lib/python3.7/dist-packages (from requests>=2.20->yfinance) (2021.5.30)\n",
            "Building wheels for collected packages: yfinance\n",
            "  Building wheel for yfinance (setup.py) ... \u001b[?25l\u001b[?25hdone\n",
            "  Created wheel for yfinance: filename=yfinance-0.1.63-py2.py3-none-any.whl size=23918 sha256=30a56c4eeafa4d0528ec3ec551569d5b6a8d22a9c652dacf4ffa4f38c619b365\n",
            "  Stored in directory: /root/.cache/pip/wheels/fe/87/8b/7ec24486e001d3926537f5f7801f57a74d181be25b11157983\n",
            "Successfully built yfinance\n",
            "Installing collected packages: lxml, yfinance\n",
            "  Attempting uninstall: lxml\n",
            "    Found existing installation: lxml 4.2.6\n",
            "    Uninstalling lxml-4.2.6:\n",
            "      Successfully uninstalled lxml-4.2.6\n",
            "Successfully installed lxml-4.6.3 yfinance-0.1.63\n"
          ],
          "name": "stdout"
        }
      ]
    },
    {
      "cell_type": "code",
      "metadata": {
        "id": "8GQ66S9awyFY"
      },
      "source": [
        "import yfinance as yf\n",
        "import pandas as pd\n",
        "import numpy as np"
      ],
      "execution_count": 2,
      "outputs": []
    },
    {
      "cell_type": "code",
      "metadata": {
        "id": "TJLpqYyFw6EN"
      },
      "source": [
        "ativos=[\n",
        "        'PETR4.SA',\n",
        "        'VALE3.SA',\n",
        "        'WEGE3.SA',\n",
        "        'RADL3.SA',\n",
        "        'OIBR3.SA',\n",
        "        'KNRI11.SA',\n",
        "        'SMAL11.SA',\n",
        "        'AAPL34.SA',\n",
        "        'IVVB11.SA',\n",
        "        'ETH-USD',\n",
        "        'USDBRL=X'\n",
        "]"
      ],
      "execution_count": 3,
      "outputs": []
    },
    {
      "cell_type": "code",
      "metadata": {
        "id": "7__RknIjxbsi"
      },
      "source": [
        "inicio = '2020-05-01'\n",
        "fim = '2021-08-15'"
      ],
      "execution_count": 4,
      "outputs": []
    },
    {
      "cell_type": "code",
      "metadata": {
        "colab": {
          "base_uri": "https://localhost:8080/"
        },
        "id": "-RLKTHBOxklh",
        "outputId": "113d460f-c528-45c1-875c-57d1919a6233"
      },
      "source": [
        "precos = pd.DataFrame()\n",
        "\n",
        "for i in ativos:\n",
        "  precos[i] = yf.download(i, start=inicio, end=fim)['Adj Close']"
      ],
      "execution_count": 6,
      "outputs": [
        {
          "output_type": "stream",
          "text": [
            "[*********************100%***********************]  1 of 1 completed\n",
            "[*********************100%***********************]  1 of 1 completed\n",
            "[*********************100%***********************]  1 of 1 completed\n",
            "[*********************100%***********************]  1 of 1 completed\n",
            "[*********************100%***********************]  1 of 1 completed\n",
            "[*********************100%***********************]  1 of 1 completed\n",
            "[*********************100%***********************]  1 of 1 completed\n",
            "[*********************100%***********************]  1 of 1 completed\n",
            "[*********************100%***********************]  1 of 1 completed\n",
            "[*********************100%***********************]  1 of 1 completed\n",
            "[*********************100%***********************]  1 of 1 completed\n"
          ],
          "name": "stdout"
        }
      ]
    },
    {
      "cell_type": "code",
      "metadata": {
        "id": "PW7_RAh0x_CM"
      },
      "source": [
        "precos['ETH-BRL'] = precos['ETH-USD']*precos['USDBRL=X']"
      ],
      "execution_count": 7,
      "outputs": []
    },
    {
      "cell_type": "code",
      "metadata": {
        "id": "lbr1tnLbyMwQ"
      },
      "source": [
        "precos = precos.drop(columns=['ETH-USD'])"
      ],
      "execution_count": 8,
      "outputs": []
    },
    {
      "cell_type": "code",
      "metadata": {
        "colab": {
          "base_uri": "https://localhost:8080/",
          "height": 494
        },
        "id": "hJNoftftyVdn",
        "outputId": "9dcce629-0349-4162-c613-a83bdf6dbdd5"
      },
      "source": [
        "normalizado = precos/precos.iloc[0]\n",
        "normalizado.plot(figsize=(8,8))"
      ],
      "execution_count": 10,
      "outputs": [
        {
          "output_type": "execute_result",
          "data": {
            "text/plain": [
              "<matplotlib.axes._subplots.AxesSubplot at 0x7f20c45cff90>"
            ]
          },
          "metadata": {},
          "execution_count": 10
        },
        {
          "output_type": "display_data",
          "data": {
            "image/png": "[encoded data removed]",
            "text/plain": [
              "<Figure size 576x576 with 1 Axes>"
            ]
          },
          "metadata": {
            "needs_background": "light"
          }
        }
      ]
    },
    {
      "cell_type": "code",
      "metadata": {
        "id": "HeZZek-cyvi4"
      },
      "source": [
        "compras = {\n",
        "   'PETR4.SA':1000,\n",
        "        'VALE3.SA':700,\n",
        "        'WEGE3.SA':1500,\n",
        "        'RADL3.SA':700,\n",
        "        'OIBR3.SA':200,\n",
        "        'KNRI11.SA':700,\n",
        "        'SMAL11.SA':1500,\n",
        "        'AAPL34.SA':2000,\n",
        "        'IVVB11.SA':1500,\n",
        "        'ETH-USD':200,\n",
        "\n",
        "}"
      ],
      "execution_count": 12,
      "outputs": []
    },
    {
      "cell_type": "code",
      "metadata": {
        "id": "LSMBh58HzJ1n"
      },
      "source": [
        "compras_df = pd.Series(data=compras, index=list(compras.keys()))"
      ],
      "execution_count": 13,
      "outputs": []
    },
    {
      "cell_type": "code",
      "metadata": {
        "colab": {
          "base_uri": "https://localhost:8080/"
        },
        "id": "2BFme6m6zUIO",
        "outputId": "bd583838-924d-4003-d6b1-a49b4314d66a"
      },
      "source": [
        "sum(compras.values())"
      ],
      "execution_count": 14,
      "outputs": [
        {
          "output_type": "execute_result",
          "data": {
            "text/plain": [
              "10000"
            ]
          },
          "metadata": {},
          "execution_count": 14
        }
      ]
    },
    {
      "cell_type": "code",
      "metadata": {
        "id": "0ESD-1mhzbJM"
      },
      "source": [
        "primeiro = precos.iloc[0]"
      ],
      "execution_count": 15,
      "outputs": []
    },
    {
      "cell_type": "code",
      "metadata": {
        "id": "ZcHcd5gPzgQ1"
      },
      "source": [
        "qtd_acoes = compras_df/primeiro"
      ],
      "execution_count": 18,
      "outputs": []
    },
    {
      "cell_type": "code",
      "metadata": {
        "id": "IqjCPFI_ztOK"
      },
      "source": [
        "PL = precos*qtd_acoes"
      ],
      "execution_count": 19,
      "outputs": []
    },
    {
      "cell_type": "code",
      "metadata": {
        "colab": {
          "base_uri": "https://localhost:8080/",
          "height": 175
        },
        "id": "xOkQWt6tz0y2",
        "outputId": "0be6922e-2a5c-4a02-bf38-a104bb541f8f"
      },
      "source": [
        "PL.head(3)"
      ],
      "execution_count": 21,
      "outputs": [
        {
          "output_type": "execute_result",
          "data": {
            "text/html": [
              "<div>\n",
              "<style scoped>\n",
              "    .dataframe tbody tr th:only-of-type {\n",
              "        vertical-align: middle;\n",
              "    }\n",
              "\n",
              "    .dataframe tbody tr th {\n",
              "        vertical-align: top;\n",
              "    }\n",
              "\n",
              "    .dataframe thead th {\n",
              "        text-align: right;\n",
              "    }\n",
              "</style>\n",
              "<table border=\"1\" class=\"dataframe\">\n",
              "  <thead>\n",
              "    <tr style=\"text-align: right;\">\n",
              "      <th></th>\n",
              "      <th>AAPL34.SA</th>\n",
              "      <th>ETH-BRL</th>\n",
              "      <th>ETH-USD</th>\n",
              "      <th>IVVB11.SA</th>\n",
              "      <th>KNRI11.SA</th>\n",
              "      <th>OIBR3.SA</th>\n",
              "      <th>PETR4.SA</th>\n",
              "      <th>RADL3.SA</th>\n",
              "      <th>SMAL11.SA</th>\n",
              "      <th>USDBRL=X</th>\n",
              "      <th>VALE3.SA</th>\n",
              "      <th>WEGE3.SA</th>\n",
              "    </tr>\n",
              "    <tr>\n",
              "      <th>Date</th>\n",
              "      <th></th>\n",
              "      <th></th>\n",
              "      <th></th>\n",
              "      <th></th>\n",
              "      <th></th>\n",
              "      <th></th>\n",
              "      <th></th>\n",
              "      <th></th>\n",
              "      <th></th>\n",
              "      <th></th>\n",
              "      <th></th>\n",
              "      <th></th>\n",
              "    </tr>\n",
              "  </thead>\n",
              "  <tbody>\n",
              "    <tr>\n",
              "      <th>2020-05-04</th>\n",
              "      <td>2000.000000</td>\n",
              "      <td>NaN</td>\n",
              "      <td>NaN</td>\n",
              "      <td>1500.000000</td>\n",
              "      <td>700.000000</td>\n",
              "      <td>200.000000</td>\n",
              "      <td>1000.000000</td>\n",
              "      <td>700.000000</td>\n",
              "      <td>1500.000000</td>\n",
              "      <td>NaN</td>\n",
              "      <td>700.000000</td>\n",
              "      <td>1500.000000</td>\n",
              "    </tr>\n",
              "    <tr>\n",
              "      <th>2020-05-05</th>\n",
              "      <td>2059.369090</td>\n",
              "      <td>NaN</td>\n",
              "      <td>NaN</td>\n",
              "      <td>1526.950431</td>\n",
              "      <td>702.685449</td>\n",
              "      <td>205.882347</td>\n",
              "      <td>1032.221098</td>\n",
              "      <td>696.987266</td>\n",
              "      <td>1479.377360</td>\n",
              "      <td>NaN</td>\n",
              "      <td>696.335118</td>\n",
              "      <td>1468.750176</td>\n",
              "    </tr>\n",
              "    <tr>\n",
              "      <th>2020-05-06</th>\n",
              "      <td>2137.167589</td>\n",
              "      <td>NaN</td>\n",
              "      <td>NaN</td>\n",
              "      <td>1548.315577</td>\n",
              "      <td>717.231486</td>\n",
              "      <td>205.882347</td>\n",
              "      <td>994.246331</td>\n",
              "      <td>693.037478</td>\n",
              "      <td>1462.333842</td>\n",
              "      <td>NaN</td>\n",
              "      <td>706.373761</td>\n",
              "      <td>1461.973107</td>\n",
              "    </tr>\n",
              "  </tbody>\n",
              "</table>\n",
              "</div>"
            ],
            "text/plain": [
              "              AAPL34.SA  ETH-BRL  ETH-USD  ...  USDBRL=X    VALE3.SA     WEGE3.SA\n",
              "Date                                       ...                                   \n",
              "2020-05-04  2000.000000      NaN      NaN  ...       NaN  700.000000  1500.000000\n",
              "2020-05-05  2059.369090      NaN      NaN  ...       NaN  696.335118  1468.750176\n",
              "2020-05-06  2137.167589      NaN      NaN  ...       NaN  706.373761  1461.973107\n",
              "\n",
              "[3 rows x 12 columns]"
            ]
          },
          "metadata": {},
          "execution_count": 21
        }
      ]
    },
    {
      "cell_type": "code",
      "metadata": {
        "id": "QLZLVKip0A99"
      },
      "source": [
        "PL['PL Total']=PL.iloc[:].sum(axis=1)"
      ],
      "execution_count": 22,
      "outputs": []
    },
    {
      "cell_type": "code",
      "metadata": {
        "colab": {
          "base_uri": "https://localhost:8080/",
          "height": 238
        },
        "id": "k_DhctA80NXb",
        "outputId": "62f8df9c-f09c-4695-eed3-4d4f0d776a5e"
      },
      "source": [
        "PL.head()"
      ],
      "execution_count": 23,
      "outputs": [
        {
          "output_type": "execute_result",
          "data": {
            "text/html": [
              "<div>\n",
              "<style scoped>\n",
              "    .dataframe tbody tr th:only-of-type {\n",
              "        vertical-align: middle;\n",
              "    }\n",
              "\n",
              "    .dataframe tbody tr th {\n",
              "        vertical-align: top;\n",
              "    }\n",
              "\n",
              "    .dataframe thead th {\n",
              "        text-align: right;\n",
              "    }\n",
              "</style>\n",
              "<table border=\"1\" class=\"dataframe\">\n",
              "  <thead>\n",
              "    <tr style=\"text-align: right;\">\n",
              "      <th></th>\n",
              "      <th>AAPL34.SA</th>\n",
              "      <th>ETH-BRL</th>\n",
              "      <th>ETH-USD</th>\n",
              "      <th>IVVB11.SA</th>\n",
              "      <th>KNRI11.SA</th>\n",
              "      <th>OIBR3.SA</th>\n",
              "      <th>PETR4.SA</th>\n",
              "      <th>RADL3.SA</th>\n",
              "      <th>SMAL11.SA</th>\n",
              "      <th>USDBRL=X</th>\n",
              "      <th>VALE3.SA</th>\n",
              "      <th>WEGE3.SA</th>\n",
              "      <th>PL Total</th>\n",
              "    </tr>\n",
              "    <tr>\n",
              "      <th>Date</th>\n",
              "      <th></th>\n",
              "      <th></th>\n",
              "      <th></th>\n",
              "      <th></th>\n",
              "      <th></th>\n",
              "      <th></th>\n",
              "      <th></th>\n",
              "      <th></th>\n",
              "      <th></th>\n",
              "      <th></th>\n",
              "      <th></th>\n",
              "      <th></th>\n",
              "      <th></th>\n",
              "    </tr>\n",
              "  </thead>\n",
              "  <tbody>\n",
              "    <tr>\n",
              "      <th>2020-05-04</th>\n",
              "      <td>2000.000000</td>\n",
              "      <td>NaN</td>\n",
              "      <td>NaN</td>\n",
              "      <td>1500.000000</td>\n",
              "      <td>700.000000</td>\n",
              "      <td>200.000000</td>\n",
              "      <td>1000.000000</td>\n",
              "      <td>700.000000</td>\n",
              "      <td>1500.000000</td>\n",
              "      <td>NaN</td>\n",
              "      <td>700.000000</td>\n",
              "      <td>1500.000000</td>\n",
              "      <td>9800.000000</td>\n",
              "    </tr>\n",
              "    <tr>\n",
              "      <th>2020-05-05</th>\n",
              "      <td>2059.369090</td>\n",
              "      <td>NaN</td>\n",
              "      <td>NaN</td>\n",
              "      <td>1526.950431</td>\n",
              "      <td>702.685449</td>\n",
              "      <td>205.882347</td>\n",
              "      <td>1032.221098</td>\n",
              "      <td>696.987266</td>\n",
              "      <td>1479.377360</td>\n",
              "      <td>NaN</td>\n",
              "      <td>696.335118</td>\n",
              "      <td>1468.750176</td>\n",
              "      <td>9868.558335</td>\n",
              "    </tr>\n",
              "    <tr>\n",
              "      <th>2020-05-06</th>\n",
              "      <td>2137.167589</td>\n",
              "      <td>NaN</td>\n",
              "      <td>NaN</td>\n",
              "      <td>1548.315577</td>\n",
              "      <td>717.231486</td>\n",
              "      <td>205.882347</td>\n",
              "      <td>994.246331</td>\n",
              "      <td>693.037478</td>\n",
              "      <td>1462.333842</td>\n",
              "      <td>NaN</td>\n",
              "      <td>706.373761</td>\n",
              "      <td>1461.973107</td>\n",
              "      <td>9926.561519</td>\n",
              "    </tr>\n",
              "    <tr>\n",
              "      <th>2020-05-07</th>\n",
              "      <td>2199.999886</td>\n",
              "      <td>NaN</td>\n",
              "      <td>NaN</td>\n",
              "      <td>1622.340455</td>\n",
              "      <td>716.112560</td>\n",
              "      <td>197.058826</td>\n",
              "      <td>1003.452454</td>\n",
              "      <td>694.175587</td>\n",
              "      <td>1431.655459</td>\n",
              "      <td>NaN</td>\n",
              "      <td>733.780947</td>\n",
              "      <td>1471.762093</td>\n",
              "      <td>10070.338267</td>\n",
              "    </tr>\n",
              "    <tr>\n",
              "      <th>2020-05-08</th>\n",
              "      <td>2220.108426</td>\n",
              "      <td>NaN</td>\n",
              "      <td>NaN</td>\n",
              "      <td>1602.393646</td>\n",
              "      <td>727.301819</td>\n",
              "      <td>202.941174</td>\n",
              "      <td>1063.291199</td>\n",
              "      <td>700.803383</td>\n",
              "      <td>1433.359785</td>\n",
              "      <td>NaN</td>\n",
              "      <td>778.397410</td>\n",
              "      <td>1439.759181</td>\n",
              "      <td>10168.356020</td>\n",
              "    </tr>\n",
              "  </tbody>\n",
              "</table>\n",
              "</div>"
            ],
            "text/plain": [
              "              AAPL34.SA  ETH-BRL  ...     WEGE3.SA      PL Total\n",
              "Date                              ...                           \n",
              "2020-05-04  2000.000000      NaN  ...  1500.000000   9800.000000\n",
              "2020-05-05  2059.369090      NaN  ...  1468.750176   9868.558335\n",
              "2020-05-06  2137.167589      NaN  ...  1461.973107   9926.561519\n",
              "2020-05-07  2199.999886      NaN  ...  1471.762093  10070.338267\n",
              "2020-05-08  2220.108426      NaN  ...  1439.759181  10168.356020\n",
              "\n",
              "[5 rows x 13 columns]"
            ]
          },
          "metadata": {},
          "execution_count": 23
        }
      ]
    },
    {
      "cell_type": "code",
      "metadata": {
        "colab": {
          "base_uri": "https://localhost:8080/"
        },
        "id": "Tk-4CoHo0Uey",
        "outputId": "0b7ea608-aa50-4756-c879-558af50076b5"
      },
      "source": [
        "ibov = yf.download('^BVSP', start = inicio, end = fim)"
      ],
      "execution_count": 25,
      "outputs": [
        {
          "output_type": "stream",
          "text": [
            "\r[*********************100%***********************]  1 of 1 completed\n"
          ],
          "name": "stdout"
        }
      ]
    },
    {
      "cell_type": "code",
      "metadata": {
        "id": "RSytBiKL0rpC"
      },
      "source": [
        "ibov.rename(columns={'Adj Close':'IBOV'},inplace=True)"
      ],
      "execution_count": 26,
      "outputs": []
    },
    {
      "cell_type": "code",
      "metadata": {
        "id": "xoWTc2_700S5"
      },
      "source": [
        "ibov = ibov.drop(ibov.columns[[0,1,2,3,5]], axis=1)"
      ],
      "execution_count": 27,
      "outputs": []
    },
    {
      "cell_type": "code",
      "metadata": {
        "id": "PAZl-ODK0eg7"
      },
      "source": [
        "ibov.index = pd.to_datetime(ibov.index)"
      ],
      "execution_count": 28,
      "outputs": []
    },
    {
      "cell_type": "code",
      "metadata": {
        "id": "12pTRiyb1EgO"
      },
      "source": [
        "PL.index = pd.to_datetime(PL.index)"
      ],
      "execution_count": 29,
      "outputs": []
    },
    {
      "cell_type": "code",
      "metadata": {
        "id": "1jHmuAm01Oar"
      },
      "source": [
        "novo_df = pd.merge(ibov, PL, how = 'inner', on='Date')"
      ],
      "execution_count": 30,
      "outputs": []
    },
    {
      "cell_type": "code",
      "metadata": {
        "colab": {
          "base_uri": "https://localhost:8080/",
          "height": 238
        },
        "id": "__xxKmds1WBD",
        "outputId": "79c92e5d-4df1-4233-b8a5-2ef5238a0cd3"
      },
      "source": [
        "novo_df.head()"
      ],
      "execution_count": 32,
      "outputs": [
        {
          "output_type": "execute_result",
          "data": {
            "text/html": [
              "<div>\n",
              "<style scoped>\n",
              "    .dataframe tbody tr th:only-of-type {\n",
              "        vertical-align: middle;\n",
              "    }\n",
              "\n",
              "    .dataframe tbody tr th {\n",
              "        vertical-align: top;\n",
              "    }\n",
              "\n",
              "    .dataframe thead th {\n",
              "        text-align: right;\n",
              "    }\n",
              "</style>\n",
              "<table border=\"1\" class=\"dataframe\">\n",
              "  <thead>\n",
              "    <tr style=\"text-align: right;\">\n",
              "      <th></th>\n",
              "      <th>IBOV</th>\n",
              "      <th>AAPL34.SA</th>\n",
              "      <th>ETH-BRL</th>\n",
              "      <th>ETH-USD</th>\n",
              "      <th>IVVB11.SA</th>\n",
              "      <th>KNRI11.SA</th>\n",
              "      <th>OIBR3.SA</th>\n",
              "      <th>PETR4.SA</th>\n",
              "      <th>RADL3.SA</th>\n",
              "      <th>SMAL11.SA</th>\n",
              "      <th>USDBRL=X</th>\n",
              "      <th>VALE3.SA</th>\n",
              "      <th>WEGE3.SA</th>\n",
              "      <th>PL Total</th>\n",
              "    </tr>\n",
              "    <tr>\n",
              "      <th>Date</th>\n",
              "      <th></th>\n",
              "      <th></th>\n",
              "      <th></th>\n",
              "      <th></th>\n",
              "      <th></th>\n",
              "      <th></th>\n",
              "      <th></th>\n",
              "      <th></th>\n",
              "      <th></th>\n",
              "      <th></th>\n",
              "      <th></th>\n",
              "      <th></th>\n",
              "      <th></th>\n",
              "      <th></th>\n",
              "    </tr>\n",
              "  </thead>\n",
              "  <tbody>\n",
              "    <tr>\n",
              "      <th>2020-05-04</th>\n",
              "      <td>78876.0</td>\n",
              "      <td>2000.000000</td>\n",
              "      <td>NaN</td>\n",
              "      <td>NaN</td>\n",
              "      <td>1500.000000</td>\n",
              "      <td>700.000000</td>\n",
              "      <td>200.000000</td>\n",
              "      <td>1000.000000</td>\n",
              "      <td>700.000000</td>\n",
              "      <td>1500.000000</td>\n",
              "      <td>NaN</td>\n",
              "      <td>700.000000</td>\n",
              "      <td>1500.000000</td>\n",
              "      <td>9800.000000</td>\n",
              "    </tr>\n",
              "    <tr>\n",
              "      <th>2020-05-05</th>\n",
              "      <td>79471.0</td>\n",
              "      <td>2059.369090</td>\n",
              "      <td>NaN</td>\n",
              "      <td>NaN</td>\n",
              "      <td>1526.950431</td>\n",
              "      <td>702.685449</td>\n",
              "      <td>205.882347</td>\n",
              "      <td>1032.221098</td>\n",
              "      <td>696.987266</td>\n",
              "      <td>1479.377360</td>\n",
              "      <td>NaN</td>\n",
              "      <td>696.335118</td>\n",
              "      <td>1468.750176</td>\n",
              "      <td>9868.558335</td>\n",
              "    </tr>\n",
              "    <tr>\n",
              "      <th>2020-05-06</th>\n",
              "      <td>79064.0</td>\n",
              "      <td>2137.167589</td>\n",
              "      <td>NaN</td>\n",
              "      <td>NaN</td>\n",
              "      <td>1548.315577</td>\n",
              "      <td>717.231486</td>\n",
              "      <td>205.882347</td>\n",
              "      <td>994.246331</td>\n",
              "      <td>693.037478</td>\n",
              "      <td>1462.333842</td>\n",
              "      <td>NaN</td>\n",
              "      <td>706.373761</td>\n",
              "      <td>1461.973107</td>\n",
              "      <td>9926.561519</td>\n",
              "    </tr>\n",
              "    <tr>\n",
              "      <th>2020-05-07</th>\n",
              "      <td>78119.0</td>\n",
              "      <td>2199.999886</td>\n",
              "      <td>NaN</td>\n",
              "      <td>NaN</td>\n",
              "      <td>1622.340455</td>\n",
              "      <td>716.112560</td>\n",
              "      <td>197.058826</td>\n",
              "      <td>1003.452454</td>\n",
              "      <td>694.175587</td>\n",
              "      <td>1431.655459</td>\n",
              "      <td>NaN</td>\n",
              "      <td>733.780947</td>\n",
              "      <td>1471.762093</td>\n",
              "      <td>10070.338267</td>\n",
              "    </tr>\n",
              "    <tr>\n",
              "      <th>2020-05-08</th>\n",
              "      <td>80263.0</td>\n",
              "      <td>2220.108426</td>\n",
              "      <td>NaN</td>\n",
              "      <td>NaN</td>\n",
              "      <td>1602.393646</td>\n",
              "      <td>727.301819</td>\n",
              "      <td>202.941174</td>\n",
              "      <td>1063.291199</td>\n",
              "      <td>700.803383</td>\n",
              "      <td>1433.359785</td>\n",
              "      <td>NaN</td>\n",
              "      <td>778.397410</td>\n",
              "      <td>1439.759181</td>\n",
              "      <td>10168.356020</td>\n",
              "    </tr>\n",
              "  </tbody>\n",
              "</table>\n",
              "</div>"
            ],
            "text/plain": [
              "               IBOV    AAPL34.SA  ...     WEGE3.SA      PL Total\n",
              "Date                              ...                           \n",
              "2020-05-04  78876.0  2000.000000  ...  1500.000000   9800.000000\n",
              "2020-05-05  79471.0  2059.369090  ...  1468.750176   9868.558335\n",
              "2020-05-06  79064.0  2137.167589  ...  1461.973107   9926.561519\n",
              "2020-05-07  78119.0  2199.999886  ...  1471.762093  10070.338267\n",
              "2020-05-08  80263.0  2220.108426  ...  1439.759181  10168.356020\n",
              "\n",
              "[5 rows x 14 columns]"
            ]
          },
          "metadata": {},
          "execution_count": 32
        }
      ]
    },
    {
      "cell_type": "code",
      "metadata": {
        "id": "yUeQOnbt1xkN"
      },
      "source": [
        "PL_normalizado = novo_df/novo_df.iloc[0]"
      ],
      "execution_count": 33,
      "outputs": []
    },
    {
      "cell_type": "code",
      "metadata": {
        "colab": {
          "base_uri": "https://localhost:8080/",
          "height": 238
        },
        "id": "OtMS-kbj12Zp",
        "outputId": "28e04c8c-5ce6-42c7-f437-42c0f2b07625"
      },
      "source": [
        "PL_normalizado.head()"
      ],
      "execution_count": 34,
      "outputs": [
        {
          "output_type": "execute_result",
          "data": {
            "text/html": [
              "<div>\n",
              "<style scoped>\n",
              "    .dataframe tbody tr th:only-of-type {\n",
              "        vertical-align: middle;\n",
              "    }\n",
              "\n",
              "    .dataframe tbody tr th {\n",
              "        vertical-align: top;\n",
              "    }\n",
              "\n",
              "    .dataframe thead th {\n",
              "        text-align: right;\n",
              "    }\n",
              "</style>\n",
              "<table border=\"1\" class=\"dataframe\">\n",
              "  <thead>\n",
              "    <tr style=\"text-align: right;\">\n",
              "      <th></th>\n",
              "      <th>IBOV</th>\n",
              "      <th>AAPL34.SA</th>\n",
              "      <th>ETH-BRL</th>\n",
              "      <th>ETH-USD</th>\n",
              "      <th>IVVB11.SA</th>\n",
              "      <th>KNRI11.SA</th>\n",
              "      <th>OIBR3.SA</th>\n",
              "      <th>PETR4.SA</th>\n",
              "      <th>RADL3.SA</th>\n",
              "      <th>SMAL11.SA</th>\n",
              "      <th>USDBRL=X</th>\n",
              "      <th>VALE3.SA</th>\n",
              "      <th>WEGE3.SA</th>\n",
              "      <th>PL Total</th>\n",
              "    </tr>\n",
              "    <tr>\n",
              "      <th>Date</th>\n",
              "      <th></th>\n",
              "      <th></th>\n",
              "      <th></th>\n",
              "      <th></th>\n",
              "      <th></th>\n",
              "      <th></th>\n",
              "      <th></th>\n",
              "      <th></th>\n",
              "      <th></th>\n",
              "      <th></th>\n",
              "      <th></th>\n",
              "      <th></th>\n",
              "      <th></th>\n",
              "      <th></th>\n",
              "    </tr>\n",
              "  </thead>\n",
              "  <tbody>\n",
              "    <tr>\n",
              "      <th>2020-05-04</th>\n",
              "      <td>1.000000</td>\n",
              "      <td>1.000000</td>\n",
              "      <td>NaN</td>\n",
              "      <td>NaN</td>\n",
              "      <td>1.000000</td>\n",
              "      <td>1.000000</td>\n",
              "      <td>1.000000</td>\n",
              "      <td>1.000000</td>\n",
              "      <td>1.000000</td>\n",
              "      <td>1.000000</td>\n",
              "      <td>NaN</td>\n",
              "      <td>1.000000</td>\n",
              "      <td>1.000000</td>\n",
              "      <td>1.000000</td>\n",
              "    </tr>\n",
              "    <tr>\n",
              "      <th>2020-05-05</th>\n",
              "      <td>1.007543</td>\n",
              "      <td>1.029685</td>\n",
              "      <td>NaN</td>\n",
              "      <td>NaN</td>\n",
              "      <td>1.017967</td>\n",
              "      <td>1.003836</td>\n",
              "      <td>1.029412</td>\n",
              "      <td>1.032221</td>\n",
              "      <td>0.995696</td>\n",
              "      <td>0.986252</td>\n",
              "      <td>NaN</td>\n",
              "      <td>0.994764</td>\n",
              "      <td>0.979167</td>\n",
              "      <td>1.006996</td>\n",
              "    </tr>\n",
              "    <tr>\n",
              "      <th>2020-05-06</th>\n",
              "      <td>1.002383</td>\n",
              "      <td>1.068584</td>\n",
              "      <td>NaN</td>\n",
              "      <td>NaN</td>\n",
              "      <td>1.032210</td>\n",
              "      <td>1.024616</td>\n",
              "      <td>1.029412</td>\n",
              "      <td>0.994246</td>\n",
              "      <td>0.990054</td>\n",
              "      <td>0.974889</td>\n",
              "      <td>NaN</td>\n",
              "      <td>1.009105</td>\n",
              "      <td>0.974649</td>\n",
              "      <td>1.012914</td>\n",
              "    </tr>\n",
              "    <tr>\n",
              "      <th>2020-05-07</th>\n",
              "      <td>0.990403</td>\n",
              "      <td>1.100000</td>\n",
              "      <td>NaN</td>\n",
              "      <td>NaN</td>\n",
              "      <td>1.081560</td>\n",
              "      <td>1.023018</td>\n",
              "      <td>0.985294</td>\n",
              "      <td>1.003452</td>\n",
              "      <td>0.991679</td>\n",
              "      <td>0.954437</td>\n",
              "      <td>NaN</td>\n",
              "      <td>1.048258</td>\n",
              "      <td>0.981175</td>\n",
              "      <td>1.027586</td>\n",
              "    </tr>\n",
              "    <tr>\n",
              "      <th>2020-05-08</th>\n",
              "      <td>1.017585</td>\n",
              "      <td>1.110054</td>\n",
              "      <td>NaN</td>\n",
              "      <td>NaN</td>\n",
              "      <td>1.068262</td>\n",
              "      <td>1.039003</td>\n",
              "      <td>1.014706</td>\n",
              "      <td>1.063291</td>\n",
              "      <td>1.001148</td>\n",
              "      <td>0.955573</td>\n",
              "      <td>NaN</td>\n",
              "      <td>1.111996</td>\n",
              "      <td>0.959839</td>\n",
              "      <td>1.037587</td>\n",
              "    </tr>\n",
              "  </tbody>\n",
              "</table>\n",
              "</div>"
            ],
            "text/plain": [
              "                IBOV  AAPL34.SA  ETH-BRL  ...  VALE3.SA  WEGE3.SA  PL Total\n",
              "Date                                      ...                              \n",
              "2020-05-04  1.000000   1.000000      NaN  ...  1.000000  1.000000  1.000000\n",
              "2020-05-05  1.007543   1.029685      NaN  ...  0.994764  0.979167  1.006996\n",
              "2020-05-06  1.002383   1.068584      NaN  ...  1.009105  0.974649  1.012914\n",
              "2020-05-07  0.990403   1.100000      NaN  ...  1.048258  0.981175  1.027586\n",
              "2020-05-08  1.017585   1.110054      NaN  ...  1.111996  0.959839  1.037587\n",
              "\n",
              "[5 rows x 14 columns]"
            ]
          },
          "metadata": {},
          "execution_count": 34
        }
      ]
    },
    {
      "cell_type": "code",
      "metadata": {
        "colab": {
          "base_uri": "https://localhost:8080/",
          "height": 588
        },
        "id": "A6S7W8MD15AC",
        "outputId": "2494d24f-878a-4231-ac49-7f6bef6aae16"
      },
      "source": [
        "PL_normalizado[['IBOV','PL Total']].plot(figsize=(10,10))"
      ],
      "execution_count": 35,
      "outputs": [
        {
          "output_type": "execute_result",
          "data": {
            "text/plain": [
              "<matplotlib.axes._subplots.AxesSubplot at 0x7f20c2ea9850>"
            ]
          },
          "metadata": {},
          "execution_count": 35
        },
        {
          "output_type": "display_data",
          "data": {
            "image/png": "[encoded data removed]",
            "text/plain": [
              "<Figure size 720x720 with 1 Axes>"
            ]
          },
          "metadata": {
            "needs_background": "light"
          }
        }
      ]
    }
  ]
}