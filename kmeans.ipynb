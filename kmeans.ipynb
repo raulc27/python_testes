{
  "nbformat": 4,
  "nbformat_minor": 0,
  "metadata": {
    "colab": {
      "name": "kmeans.ipynb",
      "provenance": [],
      "collapsed_sections": [],
      "authorship_tag": "ABX9TyMIYx4WuPCbumzZFsn73RZQ",
      "include_colab_link": true
    },
    "kernelspec": {
      "name": "python3",
      "display_name": "Python 3"
    },
    "language_info": {
      "name": "python"
    }
  },
  "cells": [
    {
      "cell_type": "markdown",
      "metadata": {
        "id": "view-in-github",
        "colab_type": "text"
      },
      "source": [
        "<a href=\"https://colab.research.google.com/github/raulc27/python_testes/blob/master/kmeans.ipynb\" target=\"_parent\"><img src=\"https://colab.research.google.com/assets/colab-badge.svg\" alt=\"Open In Colab\"/></a>"
      ]
    },
    {
      "cell_type": "code",
      "execution_count": 26,
      "metadata": {
        "id": "fzoUjjQiu5xl"
      },
      "outputs": [],
      "source": [
        "from sklearn.cluster import KMeans\n",
        "import pandas as pd\n",
        "import matplotlib.pyplot as plt"
      ]
    },
    {
      "cell_type": "code",
      "source": [
        "#criando dados aleatórios\n",
        "dados = {\n",
        "    'x':[25,34,52,32,23,26,89,29,78,57,34,43,21,27,52],\n",
        "    'y':[98,34,65,78,65,34,12,32,45,67,89,98,76,43,44]\n",
        "}\n",
        "df=pd.DataFrame(dados,columns=['x','y'])\n",
        "print(df.head())"
      ],
      "metadata": {
        "colab": {
          "base_uri": "https://localhost:8080/"
        },
        "id": "Y1OVrvF1vI50",
        "outputId": "5450f1eb-7831-4dfb-d465-24d340777284"
      },
      "execution_count": 19,
      "outputs": [
        {
          "output_type": "stream",
          "name": "stdout",
          "text": [
            "    x   y\n",
            "0  25  98\n",
            "1  34  34\n",
            "2  52  65\n",
            "3  32  78\n",
            "4  23  65\n"
          ]
        }
      ]
    },
    {
      "cell_type": "code",
      "source": [
        "kmeans = KMeans(n_clusters=2) #cria o objt de para o algoritmo k-means para encontrar 2 clusters\n",
        "kmeans.fit(df) #aplica o algoritmo\n",
        "centroides = kmeans.cluster_centers_ #encontra as coordenadas dos centroids\n",
        "print(centroides)"
      ],
      "metadata": {
        "colab": {
          "base_uri": "https://localhost:8080/"
        },
        "id": "slRRPU2XvuB3",
        "outputId": "f0af629a-0feb-4b2e-9e81-229ae182d67b"
      },
      "execution_count": 20,
      "outputs": [
        {
          "output_type": "stream",
          "name": "stdout",
          "text": [
            "[[47.85714286 34.85714286]\n",
            " [35.875      79.5       ]]\n"
          ]
        }
      ]
    },
    {
      "cell_type": "code",
      "source": [
        "#realizando o gráfico\n",
        "plt.scatter(df['x'],df['y'],c=kmeans.labels_.astype(float),s=50, alpha=0.5)\n",
        "plt.scatter(centroides[:,0],centroides[:,1],c='red',s=50)\n",
        "plt.xlabel(\"X\")\n",
        "plt.ylabel(\"Y\")"
      ],
      "metadata": {
        "colab": {
          "base_uri": "https://localhost:8080/",
          "height": 297
        },
        "id": "0NevJgomz6Uj",
        "outputId": "50bdc3c7-c4e7-4bdc-f65a-951e31d0dfa1"
      },
      "execution_count": 27,
      "outputs": [
        {
          "output_type": "execute_result",
          "data": {
            "text/plain": [
              "Text(0, 0.5, 'Y')"
            ]
          },
          "metadata": {},
          "execution_count": 27
        },
        {
          "output_type": "display_data",
          "data": {
            "image/png": "[encoded data removed]",
            "text/plain": [
              "<Figure size 432x288 with 1 Axes>"
            ]
          },
          "metadata": {
            "needs_background": "light"
          }
        }
      ]
    },
    {
      "cell_type": "code",
      "source": [
        ""
      ],
      "metadata": {
        "id": "JrCzrhCT5AJC"
      },
      "execution_count": null,
      "outputs": []
    }
  ]
}