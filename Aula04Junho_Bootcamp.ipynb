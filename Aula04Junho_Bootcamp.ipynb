{
  "nbformat": 4,
  "nbformat_minor": 0,
  "metadata": {
    "colab": {
      "name": "Aula04Junho_Bootcamp.ipynb",
      "provenance": [],
      "authorship_tag": "ABX9TyO4teb2sYVW0+BZTfjVHMhC",
      "include_colab_link": true
    },
    "kernelspec": {
      "name": "python3",
      "display_name": "Python 3"
    },
    "language_info": {
      "name": "python"
    }
  },
  "cells": [
    {
      "cell_type": "markdown",
      "metadata": {
        "id": "view-in-github",
        "colab_type": "text"
      },
      "source": [
        "<a href=\"https://colab.research.google.com/github/raulc27/python_testes/blob/master/Aula04Junho_Bootcamp.ipynb\" target=\"_parent\"><img src=\"https://colab.research.google.com/assets/colab-badge.svg\" alt=\"Open In Colab\"/></a>"
      ]
    },
    {
      "cell_type": "code",
      "metadata": {
        "colab": {
          "base_uri": "https://localhost:8080/"
        },
        "id": "o0xySfpwp4U-",
        "outputId": "3d016070-65da-4051-cd35-836ce32e3ff9"
      },
      "source": [
        "x = lambda y : y + 20\n",
        "print(x(5))"
      ],
      "execution_count": 1,
      "outputs": [
        {
          "output_type": "stream",
          "text": [
            "25\n"
          ],
          "name": "stdout"
        }
      ]
    },
    {
      "cell_type": "code",
      "metadata": {
        "colab": {
          "base_uri": "https://localhost:8080/"
        },
        "id": "MCqMBF5BqHdk",
        "outputId": "78d3c104-3e5c-4a31-dfec-b51a55b194a4"
      },
      "source": [
        "x = lambda valor_1, valor_2 : valor_1 * valor_2\n",
        "print(x(10,3))"
      ],
      "execution_count": 2,
      "outputs": [
        {
          "output_type": "stream",
          "text": [
            "30\n"
          ],
          "name": "stdout"
        }
      ]
    },
    {
      "cell_type": "code",
      "metadata": {
        "colab": {
          "base_uri": "https://localhost:8080/"
        },
        "id": "XTe2iRdTqqA_",
        "outputId": "934cd1f9-37ab-42ff-f53c-30a0ec9b1f25"
      },
      "source": [
        "def nome_funcao(n):\n",
        "  return lambda a : a * n\n",
        "multiplicador = nome_funcao(6)\n",
        "print(multiplicador(10))"
      ],
      "execution_count": 3,
      "outputs": [
        {
          "output_type": "stream",
          "text": [
            "60\n"
          ],
          "name": "stdout"
        }
      ]
    },
    {
      "cell_type": "code",
      "metadata": {
        "colab": {
          "base_uri": "https://localhost:8080/"
        },
        "id": "9lEP2bp2q5eo",
        "outputId": "b8fd3ad7-b8e9-48da-cc96-660c31ee0cc7"
      },
      "source": [
        "lista = [1,5,4,6,8,11,3,12]\n",
        "nova_lista = list(filter(lambda x:(x%2==0),lista))\n",
        "print(nova_lista)"
      ],
      "execution_count": 5,
      "outputs": [
        {
          "output_type": "stream",
          "text": [
            "[4, 6, 8, 12]\n"
          ],
          "name": "stdout"
        }
      ]
    },
    {
      "cell_type": "code",
      "metadata": {
        "colab": {
          "base_uri": "https://localhost:8080/"
        },
        "id": "44M2uTHYr0yW",
        "outputId": "788fa82e-321a-435b-d703-0860c3b16e6d"
      },
      "source": [
        "import random\n",
        "n = random.randint(1,99)\n",
        "advinhe = int(input('Tente advinhar um número entre 1 e 99'))\n",
        "while n!='advinhe': \n",
        "  print\n",
        "  if advinhe<n:\n",
        "    print('O número é maior que este')\n",
        "    advinhe = int(input('Tente outra vez: '))\n",
        "  elif advinhe>n:\n",
        "    print('O número é menor que este')\n",
        "    advinhe = int(input('Tente outra vez: '))\n",
        "  else:\n",
        "    print('Você acertou!')\n",
        "    break\n",
        "  print"
      ],
      "execution_count": 7,
      "outputs": [
        {
          "output_type": "stream",
          "text": [
            "Tente advinhar um número entre 1 e 992\n",
            "O número é maior que este\n",
            "Tente outra vez: 50\n",
            "O número é menor que este\n",
            "Tente outra vez: 30\n",
            "O número é menor que este\n",
            "Tente outra vez: 20\n",
            "O número é menor que este\n",
            "Tente outra vez: 4\n",
            "O número é maior que este\n",
            "Tente outra vez: 10\n",
            "O número é menor que este\n",
            "Tente outra vez: 9\n",
            "O número é menor que este\n",
            "Tente outra vez: 7\n",
            "O número é maior que este\n",
            "Tente outra vez: 8\n",
            "Você acertou!\n"
          ],
          "name": "stdout"
        }
      ]
    }
  ]
}