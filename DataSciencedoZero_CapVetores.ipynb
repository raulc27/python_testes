{
  "nbformat": 4,
  "nbformat_minor": 0,
  "metadata": {
    "colab": {
      "provenance": [],
      "authorship_tag": "ABX9TyN1F8UGE3GNgbJblmQTxSu8",
      "include_colab_link": true
    },
    "kernelspec": {
      "name": "python3",
      "display_name": "Python 3"
    },
    "language_info": {
      "name": "python"
    }
  },
  "cells": [
    {
      "cell_type": "markdown",
      "metadata": {
        "id": "view-in-github",
        "colab_type": "text"
      },
      "source": [
        "<a href=\"https://colab.research.google.com/github/raulc27/python_testes/blob/master/DataSciencedoZero_CapVetores.ipynb\" target=\"_parent\"><img src=\"https://colab.research.google.com/assets/colab-badge.svg\" alt=\"Open In Colab\"/></a>"
      ]
    },
    {
      "cell_type": "code",
      "execution_count": 2,
      "metadata": {
        "id": "kjW2DNMN8lqx"
      },
      "outputs": [],
      "source": [
        "from typing import List"
      ]
    },
    {
      "cell_type": "code",
      "source": [
        "Vector = List[float]\n",
        "height_weight_age = [\n",
        "    70, #polegadas\n",
        "    170, #libras\n",
        "    40, #anos\n",
        "]"
      ],
      "metadata": {
        "id": "q3zNy6qE9OqT"
      },
      "execution_count": 3,
      "outputs": []
    },
    {
      "cell_type": "code",
      "source": [
        "grades = [95, 80, 75, 62]"
      ],
      "metadata": {
        "id": "Uw8oJJEF9Ord"
      },
      "execution_count": 4,
      "outputs": []
    },
    {
      "cell_type": "code",
      "source": [
        "def add(v: Vector, w: Vector) -> Vector:\n",
        "  \"\"\"Soma os elementos correspondentes\"\"\"\n",
        "  assert len(v) == len(w), \"vectors must be the same length\"\n",
        "  return [v_i + w_i for v_i, w_i in zip(v,w)]\n",
        "\n",
        "assert add([1,2,3],[4,5,6]) == [5,7,9]"
      ],
      "metadata": {
        "id": "L9xA0r1j-PFd"
      },
      "execution_count": 5,
      "outputs": []
    },
    {
      "cell_type": "code",
      "source": [
        "def subtract(v: Vector, w: Vector) -> Vector:\n",
        "  \"\"\"Subtrai os elementos correspondentes\"\"\"\n",
        "  assert len(v) == len(w), \"Vectors must be the same length\"\n",
        "  return [v_i - w_i for v_i, w_i in zip(v,w)]\n",
        "\n",
        "assert subtract([5,7,9], [4,5,6]) == [1,2,3]"
      ],
      "metadata": {
        "id": "QDdRKIwSBRl7"
      },
      "execution_count": 6,
      "outputs": []
    },
    {
      "cell_type": "code",
      "source": [
        "def vector_sum(vectors: List[Vector]) -> Vector:\n",
        "  \"\"\"Soma todos os elementos correspondentes\"\"\"\n",
        "  #Verifique se os vetores não estão vazios\n",
        "  assert vectors, \"no vectors provided!\"\n",
        "\n",
        "  # Verifique se os vetores são do mesmo tamanho\n",
        "  num_elements = len(vectors[0])\n",
        "  assert all(len(v) == num_elements for v in vectors), \"diferent sizes!\"\n",
        "\n",
        "  # o elemento de no 1 do resultado é a soma de todo vector[i]\n",
        "  return [sum(vector[i] for vector in vectors) for i in range(num_elements)]"
      ],
      "metadata": {
        "id": "-2ydtvrLCMx-"
      },
      "execution_count": 8,
      "outputs": []
    },
    {
      "cell_type": "code",
      "source": [
        "assert vector_sum([[1,2],[3,4],[5,6],[7,8]]) == [16,20]"
      ],
      "metadata": {
        "id": "0tTe6NFXDjSB"
      },
      "execution_count": 10,
      "outputs": []
    },
    {
      "cell_type": "code",
      "source": [
        "def scalar_multiply(c: float, v: Vector) -> Vector:\n",
        "  \"\"\"Multiplica cada elemento por c\"\"\"\n",
        "  return [c * v_i for v_i in v]\n",
        "\n",
        "assert scalar_multiply(2, [1,2,3]) == [2,4,6]"
      ],
      "metadata": {
        "id": "z0iNTtzVD7XX"
      },
      "execution_count": 11,
      "outputs": []
    },
    {
      "cell_type": "code",
      "source": [
        "def vector_mean(vectors: List[Vector]) -> Vector:\n",
        "  \"\"\"Conputa a média dos elementos\"\"\"\n",
        "  n = len(vectors)\n",
        "  return scalar_multiply(1/n, vector_sum(vectors))\n",
        "\n",
        "assert vector_mean([[1,2],[3,4],[5,6]]) == [3,4]"
      ],
      "metadata": {
        "id": "IUpXplW1Etx5"
      },
      "execution_count": 12,
      "outputs": []
    },
    {
      "cell_type": "code",
      "source": [
        "def dot(v: Vector, w: Vector) -> float:\n",
        "  \"\"\"Computa v_1 * w_1 + ... + v_n * w_n\"\"\"\n",
        "  assert len(v) == len(w), \"vectors must be the same length\"\n",
        "  return sum(v_i * w_i for v_i, w_i in zip(v,w))\n",
        "\n",
        "assert dot([1,2,3],[4,5,6]) == 32 # 1 * 4 + 2 * 5 + 3 * 6"
      ],
      "metadata": {
        "id": "FsLbNFTvHEmt"
      },
      "execution_count": 13,
      "outputs": []
    },
    {
      "cell_type": "code",
      "source": [
        "def sum_of_squares(v: Vector) -> float:\n",
        "  \"\"\"Retorna v_1 * v_1 + ... + v_n * v_n\"\"\"\n",
        "  return dot(v, v)\n",
        "\n",
        "assert sum_of_squares([1,2,3]) == 14 # 1*1+2*2+3*3"
      ],
      "metadata": {
        "id": "SRiKXrHGH3GJ"
      },
      "execution_count": 14,
      "outputs": []
    },
    {
      "cell_type": "code",
      "source": [
        "import math"
      ],
      "metadata": {
        "id": "qUH1BWqFIZ4K"
      },
      "execution_count": 15,
      "outputs": []
    },
    {
      "cell_type": "code",
      "source": [
        "def magnitude(v: Vector) -> float:\n",
        "  \"\"\"Retorna a magnitude (ou comprimento) de v\"\"\"\n",
        "  return math.sqrt(sum_of_squares(v)) # math.sqrt é a função de raiz quadrada\n",
        "\n",
        "assert magnitude([3,4]) == 5"
      ],
      "metadata": {
        "id": "gULg-200IZ5h"
      },
      "execution_count": 17,
      "outputs": []
    },
    {
      "cell_type": "code",
      "source": [
        "def squared_distance(v: Vector, w: Vector) -> float:\n",
        "  \"\"\"Computa (v_1 - w_1) ** 2 + ... + (v_n - w_n) ** 2\"\"\"\n",
        "  return sum_of_squares(subtract(v, w))\n",
        "\n",
        "def distance(v: Vector, w: Vector) -> float:\n",
        "  \"\"\"Computa a distância entre v e w\"\"\"\n",
        "  return math.sqrt(squared_distance(v, w))\n",
        "  "
      ],
      "metadata": {
        "id": "D23XXHRII66_"
      },
      "execution_count": 18,
      "outputs": []
    }
  ]
}